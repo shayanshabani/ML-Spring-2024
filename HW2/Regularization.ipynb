{
 "cells": [
  {
   "cell_type": "markdown",
   "metadata": {
    "id": "6Y2oAz-bELlu"
   },
   "source": [
    "# **Introduction**"
   ]
  },
  {
   "cell_type": "markdown",
   "metadata": {
    "id": "333JCswHnbQp"
   },
   "source": [
    "In this assignment, you will work with a dataset that includes The Boston housing data was collected in 1978 and each of the 506 entries represent aggregated data about 14 features for homes from various suburbs in Boston, Massachusetts. The target variable of interest in this dataset is the median value of owner-occupied homes (MEDV), which serves as a proxy for the house prices.\n",
    "First, you will start by fitting a basic regression model using scikit-learn (sklearn) to establish a baseline for comparison. This basic regression model will serve as a reference point for evaluating the performance of more sophisticated models incorporating regularization techniques.\n",
    "\n",
    "Furthermore, you will apply L1 (Lasso) and L2 (Ridge) regularization techniques to refine your predictions and evaluate the impact of these methods on the accuracy of your results. Regularization is a technique used to prevent overfitting by adding a penalty term to the loss function, encouraging simpler models with smaller coefficients. L1 regularization (Lasso) encourages sparsity by penalizing the absolute values of coefficients, while L2 regularization (Ridge) penalizes the square of coefficients. By incorporating these regularization techniques, you aim to improve the generalization performance of your regression models and obtain more robust predictions of house prices in the Boston area."
   ]
  },
  {
   "cell_type": "markdown",
   "metadata": {
    "id": "sDDdf9AAoYXt"
   },
   "source": [
    "## Imports"
   ]
  },
  {
   "cell_type": "code",
   "execution_count": 1,
   "metadata": {
    "colab": {
     "base_uri": "https://localhost:8080/"
    },
    "id": "kkjrbInyoRyN",
    "outputId": "d218ba4b-a082-4646-93a9-07036914911e"
   },
   "outputs": [
    {
     "name": "stderr",
     "output_type": "stream",
     "text": [
      "--2024-03-31 19:38:39--  https://www.dropbox.com/scl/fi/j3rxgrd8l7fgczzhiedlp/new.csv?rlkey=yngaf57gumhtmm3hxffk20qll&dl=0\n",
      "Resolving www.dropbox.com (www.dropbox.com)... 162.125.72.18\n",
      "Connecting to www.dropbox.com (www.dropbox.com)|162.125.72.18|:443... connected.\n",
      "HTTP request sent, awaiting response... 302 Found\n",
      "Location: https://ucdbb5bc21ef426d8520ba472ed9.dl.dropboxusercontent.com/cd/0/inline/CQKwmCOwDxCQCn__Y5p2hkYdd3tBoDNINkEtFw-qdDf7Rv9nEAbfHSjIy8MnPs4GDt3k4IvwR4NEn5rvv7bQBUKdHoEp_8oIUjbmzXi9KmzNqesRMPqXXSySNkBSnylr9z0OwP1EkVncHLbfIJztf4wH/file# [following]\n",
      "--2024-03-31 19:38:41--  https://ucdbb5bc21ef426d8520ba472ed9.dl.dropboxusercontent.com/cd/0/inline/CQKwmCOwDxCQCn__Y5p2hkYdd3tBoDNINkEtFw-qdDf7Rv9nEAbfHSjIy8MnPs4GDt3k4IvwR4NEn5rvv7bQBUKdHoEp_8oIUjbmzXi9KmzNqesRMPqXXSySNkBSnylr9z0OwP1EkVncHLbfIJztf4wH/file\n",
      "Resolving ucdbb5bc21ef426d8520ba472ed9.dl.dropboxusercontent.com (ucdbb5bc21ef426d8520ba472ed9.dl.dropboxusercontent.com)... 162.125.72.15\n",
      "Connecting to ucdbb5bc21ef426d8520ba472ed9.dl.dropboxusercontent.com (ucdbb5bc21ef426d8520ba472ed9.dl.dropboxusercontent.com)|162.125.72.15|:443... connected.\n",
      "HTTP request sent, awaiting response... 200 OK\n",
      "Length: 37599 (37K) [text/plain]\n",
      "Saving to: '/HousingData.csv'\n",
      "\n",
      "     0K .......... .......... .......... ......               100% 75/6K=0/5s\n",
      "\n",
      "2024-03-31 19:38:45 (75/6 KB/s) - '/HousingData.csv' saved [37599/37599]\n",
      "\n"
     ]
    }
   ],
   "source": [
    "import os\n",
    "import pandas\n",
    "from sklearn.linear_model import LinearRegression, Lasso, Ridge\n",
    "from sklearn.metrics import mean_squared_error, r2_score\n",
    "from sklearn.model_selection import train_test_split\n",
    "from sklearn.preprocessing import StandardScaler, PolynomialFeatures\n",
    "import numpy as np\n",
    "import pandas as pd\n",
    "import seaborn as sns\n",
    "from joblib import dump, load\n",
    "from matplotlib import pyplot as plt\n",
    "\n",
    "!wget -O /HousingData.csv \"https://www.dropbox.com/scl/fi/j3rxgrd8l7fgczzhiedlp/new.csv?rlkey=yngaf57gumhtmm3hxffk20qll&dl=0\""
   ]
  },
  {
   "cell_type": "markdown",
   "metadata": {
    "id": "jBpa9AGHEtD7"
   },
   "source": [
    "# Load and Explore"
   ]
  },
  {
   "cell_type": "markdown",
   "metadata": {
    "id": "MFzJZLOxoZDJ"
   },
   "source": [
    "Load the dataset (as a dataframe) using pandas and display the top 5 rows of the dataframe and then check for missing values and impute missing values with mean"
   ]
  },
  {
   "cell_type": "code",
   "execution_count": 2,
   "metadata": {
    "colab": {
     "base_uri": "https://localhost:8080/"
    },
    "id": "lqhABVd2oZYV",
    "outputId": "edd34522-e777-4f2c-b0b8-4e511070e6d2"
   },
   "outputs": [
    {
     "name": "stdout",
     "output_type": "stream",
     "text": [
      "Top 5 rows of the dataframe:\n",
      "      CRIM    ZN  INDUS  CHAS    NOX     RM   AGE     DIS  TAX  PTRATIO  \\\n",
      "0  0.00632  18.0   2.31   0.0  0.538  6.575  65.2  4.0900  296     15.3   \n",
      "1  0.02731   0.0   7.07   0.0  0.469  6.421  78.9  4.9671  242     17.8   \n",
      "2  0.02729   0.0   7.07   0.0  0.469  7.185  61.1  4.9671  242     17.8   \n",
      "3  0.03237   0.0   2.18   0.0  0.458  6.998  45.8  6.0622  222     18.7   \n",
      "4  0.06905   0.0   2.18   0.0  0.458  7.147  54.2  6.0622  222     18.7   \n",
      "\n",
      "        B      LSTAT  MEDV  \n",
      "0  396.90   4.980000  24.0  \n",
      "1  396.90   9.140000  21.6  \n",
      "2  392.83   4.030000  34.7  \n",
      "3  394.63   2.940000  33.4  \n",
      "4  396.90  12.715432  36.2  \n",
      "\n",
      "Checking for missing values:\n",
      "CRIM       0\n",
      "ZN         0\n",
      "INDUS      0\n",
      "CHAS       0\n",
      "NOX        0\n",
      "RM         0\n",
      "AGE        0\n",
      "DIS        0\n",
      "TAX        0\n",
      "PTRATIO    0\n",
      "B          0\n",
      "LSTAT      0\n",
      "MEDV       0\n",
      "dtype: int64\n",
      "\n",
      "After imputation, checking for missing values:\n",
      "CRIM       0\n",
      "ZN         0\n",
      "INDUS      0\n",
      "CHAS       0\n",
      "NOX        0\n",
      "RM         0\n",
      "AGE        0\n",
      "DIS        0\n",
      "TAX        0\n",
      "PTRATIO    0\n",
      "B          0\n",
      "LSTAT      0\n",
      "MEDV       0\n",
      "dtype: int64\n"
     ]
    }
   ],
   "source": [
    "file_path = '/HousingData.csv'\n",
    "# TODO: Load the Dataset and Check for mising values and then impute them with the mean value\n",
    "\n",
    "data = pd.read_csv(file_path)\n",
    "\n",
    "print(\"Top 5 rows of the dataframe:\")\n",
    "print(data.head())\n",
    "\n",
    "print(\"\\nChecking for missing values:\")\n",
    "print(data.isnull().sum())\n",
    "\n",
    "data.fillna(data.mean(), inplace=True)\n",
    "\n",
    "print(\"\\nAfter imputation, checking for missing values:\")\n",
    "print(data.isnull().sum())"
   ]
  },
  {
   "cell_type": "markdown",
   "metadata": {
    "id": "5-Py3iuJoZwi"
   },
   "source": [
    "Get a brief description of the dataset"
   ]
  },
  {
   "cell_type": "code",
   "execution_count": 3,
   "metadata": {
    "colab": {
     "base_uri": "https://localhost:8080/"
    },
    "id": "zThHHTAcoZ_h",
    "outputId": "c6396de2-f136-41b8-ebbf-cb9fddc59d3b"
   },
   "outputs": [
    {
     "name": "stdout",
     "output_type": "stream",
     "text": [
      "info:\n",
      "<class 'pandas.core.frame.DataFrame'>\n",
      "RangeIndex: 506 entries, 0 to 505\n",
      "Data columns (total 13 columns):\n",
      " #   Column   Non-Null Count  Dtype  \n",
      "---  ------   --------------  -----  \n",
      " 0   CRIM     506 non-null    float64\n",
      " 1   ZN       506 non-null    float64\n",
      " 2   INDUS    506 non-null    float64\n",
      " 3   CHAS     506 non-null    float64\n",
      " 4   NOX      506 non-null    float64\n",
      " 5   RM       506 non-null    float64\n",
      " 6   AGE      506 non-null    float64\n",
      " 7   DIS      506 non-null    float64\n",
      " 8   TAX      506 non-null    int64  \n",
      " 9   PTRATIO  506 non-null    float64\n",
      " 10  B        506 non-null    float64\n",
      " 11  LSTAT    506 non-null    float64\n",
      " 12  MEDV     506 non-null    float64\n",
      "dtypes: float64(12), int64(1)\n",
      "memory usage: 51.5 KB\n",
      "None\n",
      "\n",
      "description:\n",
      "             CRIM          ZN       INDUS        CHAS         NOX          RM  \\\n",
      "count  506.000000  506.000000  506.000000  506.000000  506.000000  506.000000   \n",
      "mean     3.611874   11.211934   11.083992    0.069959    0.554695    6.284634   \n",
      "std      8.545770   22.921051    6.699165    0.250233    0.115878    0.702617   \n",
      "min      0.006320    0.000000    0.460000    0.000000    0.385000    3.561000   \n",
      "25%      0.083235    0.000000    5.190000    0.000000    0.449000    5.885500   \n",
      "50%      0.290250    0.000000    9.900000    0.000000    0.538000    6.208500   \n",
      "75%      3.611874   11.211934   18.100000    0.000000    0.624000    6.623500   \n",
      "max     88.976200  100.000000   27.740000    1.000000    0.871000    8.780000   \n",
      "\n",
      "              AGE         DIS         TAX     PTRATIO           B       LSTAT  \\\n",
      "count  506.000000  506.000000  506.000000  506.000000  506.000000  506.000000   \n",
      "mean    68.518519    3.795043  408.237154   18.455534  356.674032   12.715432   \n",
      "std     27.439466    2.105710  168.537116    2.164946   91.294864    7.012739   \n",
      "min      2.900000    1.129600  187.000000   12.600000    0.320000    1.730000   \n",
      "25%     45.925000    2.100175  279.000000   17.400000  375.377500    7.230000   \n",
      "50%     74.450000    3.207450  330.000000   19.050000  391.440000   11.995000   \n",
      "75%     93.575000    5.188425  666.000000   20.200000  396.225000   16.570000   \n",
      "max    100.000000   12.126500  711.000000   22.000000  396.900000   37.970000   \n",
      "\n",
      "             MEDV  \n",
      "count  506.000000  \n",
      "mean    22.532806  \n",
      "std      9.197104  \n",
      "min      5.000000  \n",
      "25%     17.025000  \n",
      "50%     21.200000  \n",
      "75%     25.000000  \n",
      "max     50.000000  \n"
     ]
    }
   ],
   "source": [
    "# TODO: you can use .info() and .description()\n",
    "\n",
    "print(\"info:\")\n",
    "print(data.info())\n",
    "\n",
    "print(\"\\ndescription:\")\n",
    "print(data.describe())"
   ]
  },
  {
   "cell_type": "markdown",
   "metadata": {
    "id": "gHcKVT_4oabK"
   },
   "source": [
    "Extract only the features from the dataframe by removing the target column and then Convert the new dataframe into a numpy array\n",
    "</br>\n",
    "Note: **Do not remove the previous dataframe.**\n"
   ]
  },
  {
   "cell_type": "markdown",
   "metadata": {
    "id": "VkDUEmURE-Sx"
   },
   "source": [
    "# Preprocessing"
   ]
  },
  {
   "cell_type": "code",
   "execution_count": 4,
   "metadata": {
    "colab": {
     "base_uri": "https://localhost:8080/"
    },
    "id": "FtT8kFoBoajv",
    "outputId": "f97ef7ac-b4d6-4e6c-8465-21f1adface00"
   },
   "outputs": [
    {
     "name": "stdout",
     "output_type": "stream",
     "text": [
      "Head:\n",
      "[[6.32000000e-03 1.80000000e+01 2.31000000e+00 0.00000000e+00\n",
      "  5.38000000e-01 6.57500000e+00 6.52000000e+01 4.09000000e+00\n",
      "  2.96000000e+02 1.53000000e+01 3.96900000e+02 4.98000000e+00]\n",
      " [2.73100000e-02 0.00000000e+00 7.07000000e+00 0.00000000e+00\n",
      "  4.69000000e-01 6.42100000e+00 7.89000000e+01 4.96710000e+00\n",
      "  2.42000000e+02 1.78000000e+01 3.96900000e+02 9.14000000e+00]\n",
      " [2.72900000e-02 0.00000000e+00 7.07000000e+00 0.00000000e+00\n",
      "  4.69000000e-01 7.18500000e+00 6.11000000e+01 4.96710000e+00\n",
      "  2.42000000e+02 1.78000000e+01 3.92830000e+02 4.03000000e+00]\n",
      " [3.23700000e-02 0.00000000e+00 2.18000000e+00 0.00000000e+00\n",
      "  4.58000000e-01 6.99800000e+00 4.58000000e+01 6.06220000e+00\n",
      "  2.22000000e+02 1.87000000e+01 3.94630000e+02 2.94000000e+00]\n",
      " [6.90500000e-02 0.00000000e+00 2.18000000e+00 0.00000000e+00\n",
      "  4.58000000e-01 7.14700000e+00 5.42000000e+01 6.06220000e+00\n",
      "  2.22000000e+02 1.87000000e+01 3.96900000e+02 1.27154321e+01]]\n"
     ]
    }
   ],
   "source": [
    "# TODO: drop MEDV and convert to numpy array\n",
    "\n",
    "data.drop(columns=['MEDV'], inplace=True)\n",
    "\n",
    "data_np = data.values\n",
    "\n",
    "print(\"Head:\")\n",
    "print(data_np[:5])"
   ]
  },
  {
   "cell_type": "markdown",
   "metadata": {
    "id": "forjBjgQHDz0"
   },
   "source": [
    "look for outliers using box plot and if There are some outliers in data, use StandardScaler can help in scaling data."
   ]
  },
  {
   "cell_type": "code",
   "execution_count": 19,
   "metadata": {
    "id": "fJVP9gGnFHbM"
   },
   "outputs": [
    {
     "data": {
      "image/png": "[encoded data removed]",
      "text/plain": [
       "<Figure size 1200x600 with 1 Axes>"
      ]
     },
     "metadata": {},
     "output_type": "display_data"
    },
    {
     "name": "stdout",
     "output_type": "stream",
     "text": [
      "Mean: [3.61187397e+00 1.12119342e+01 1.10839918e+01 6.99588477e-02\n",
      " 5.54695059e-01 6.28463439e+00 6.85185185e+01 3.79504269e+00\n",
      " 4.08237154e+02 1.84555336e+01 3.56674032e+02 1.27154321e+01]\n",
      "Standard deviation: [8.53732178e+00 2.28983909e+01 6.69254175e+00 2.49985767e-01\n",
      " 1.15763115e-01 7.01922514e-01 2.74123387e+01 2.10362836e+00\n",
      " 1.68370495e+02 2.16280519e+00 9.12046075e+01 7.00580593e+00]\n",
      "Outliers detected:\n",
      "[[1.31100000e-02 9.00000000e+01 1.22000000e+00 ... 1.79000000e+01\n",
      "  3.95930000e+02 4.81000000e+00]\n",
      " [2.05500000e-02 8.50000000e+01 7.40000000e-01 ... 1.73000000e+01\n",
      "  3.96900000e+02 5.77000000e+00]\n",
      " [1.43200000e-02 1.00000000e+02 1.32000000e+00 ... 1.51000000e+01\n",
      "  3.92900000e+02 3.95000000e+00]\n",
      " ...\n",
      " [4.66883000e+00 0.00000000e+00 1.81000000e+01 ... 2.02000000e+01\n",
      "  1.04800000e+01 1.90100000e+01]\n",
      " [8.20058000e+00 0.00000000e+00 1.81000000e+01 ... 2.02000000e+01\n",
      "  3.50000000e+00 1.69400000e+01]\n",
      " [3.77498000e+00 0.00000000e+00 1.10839918e+01 ... 2.02000000e+01\n",
      "  2.20100000e+01 1.71500000e+01]]\n",
      "Outliers size:\n",
      "1236\n"
     ]
    },
    {
     "data": {
      "image/png": "[encoded data removed]",
      "text/plain": [
       "<Figure size 1200x600 with 1 Axes>"
      ]
     },
     "metadata": {},
     "output_type": "display_data"
    },
    {
     "name": "stdout",
     "output_type": "stream",
     "text": [
      "Mean: [-2.80846931e-17 -7.19670261e-17 -5.61693862e-17 -4.21270397e-17\n",
      " -1.96592852e-16 -1.08828186e-16  5.05524476e-16 -8.42540793e-17\n",
      "  0.00000000e+00 -4.21270397e-16 -7.44244367e-16 -1.40423466e-16]\n",
      "Standard deviation: [1. 1. 1. 1. 1. 1. 1. 1. 1. 1. 1. 1.]\n"
     ]
    }
   ],
   "source": [
    "plt.figure(figsize=(12, 6))\n",
    "plt.boxplot(data_np, labels=data.columns)\n",
    "plt.title(\"Box plot of features\")\n",
    "plt.xticks(rotation=45)\n",
    "plt.show()\n",
    "\n",
    "print(\"Mean:\", np.mean(data_np, axis=0))\n",
    "print(\"Standard deviation:\", np.std(data_np, axis=0))\n",
    "\n",
    "outliers_index = np.any(np.abs((data_np - data_np.mean(axis=0)) / data_np.std(axis=0)) > 3, axis=1)\n",
    "outliers = data_np[outliers_index]\n",
    "\n",
    "if outliers.size != 0:\n",
    "    print(\"Outliers detected:\")\n",
    "    print(outliers)\n",
    "    print(\"Outliers size:\")\n",
    "    print(outliers.size)\n",
    "    \n",
    "    scaler = StandardScaler()\n",
    "    data_scaled = scaler.fit_transform(data_np)\n",
    "\n",
    "    plt.figure(figsize=(12, 6))\n",
    "    plt.boxplot(data_scaled, labels=data.columns)\n",
    "    plt.title(\"Box plot of scaled features\")\n",
    "    plt.xticks(rotation=45)\n",
    "    plt.show()\n",
    "    \n",
    "    print(\"Mean:\", np.mean(data_scaled, axis=0))\n",
    "    print(\"Standard deviation:\", np.std(data_scaled, axis=0))\n",
    "    \n",
    "else:\n",
    "    print(\"No outliers detected. No scaling performed\")"
   ]
  },
  {
   "cell_type": "markdown",
   "metadata": {
    "id": "mLfX6ugX3fNM"
   },
   "source": [
    "add polynomial features to increase model complexity!\n",
    "\n"
   ]
  },
  {
   "cell_type": "code",
   "execution_count": 30,
   "metadata": {
    "id": "rkEQ02jU3fXj"
   },
   "outputs": [
    {
     "name": "stdout",
     "output_type": "stream",
     "text": [
      "Shape of the data after adding polynomial features: (506, 12)\n",
      "Shape of the data after adding polynomial features: (506, 90)\n"
     ]
    }
   ],
   "source": [
    "data_np = data_scaled\n",
    "\n",
    "\n",
    "poly_features = PolynomialFeatures(degree=2, include_bias=False)\n",
    "\n",
    "data_poly = poly_features.fit_transform(data_np)\n",
    "print(\"Shape of the data after adding polynomial features:\", data_np.shape)\n",
    "print(\"Shape of the data after adding polynomial features:\", data_poly.shape)"
   ]
  },
  {
   "cell_type": "markdown",
   "metadata": {
    "id": "8_TZ52zNoatM"
   },
   "source": [
    "Extract the target column from the previously mentioned DataFrame and transform it into a new NumPy array, named y."
   ]
  },
  {
   "cell_type": "code",
   "execution_count": 31,
   "metadata": {
    "colab": {
     "base_uri": "https://localhost:8080/"
    },
    "id": "lzDxTUBFoa4I",
    "outputId": "91c7973e-8d77-46b0-a80d-259a22bc8e89"
   },
   "outputs": [
    {
     "name": "stdout",
     "output_type": "stream",
     "text": [
      "Shape of y: (506,)\n",
      "[24.  21.6 34.7 33.4 36.2 28.7 22.9 27.1 16.5 18.9 15.  18.9 21.7 20.4\n",
      " 18.2 19.9 23.1 17.5 20.2 18.2 13.6 19.6 15.2 14.5 15.6 13.9 16.6 14.8\n",
      " 18.4 21.  12.7 14.5 13.2 13.1 13.5 18.9 20.  21.  24.7 30.8 34.9 26.6\n",
      " 25.3 24.7 21.2 19.3 20.  16.6 14.4 19.4 19.7 20.5 25.  23.4 18.9 35.4\n",
      " 24.7 31.6 23.3 19.6 18.7 16.  22.2 25.  33.  23.5 19.4 22.  17.4 20.9\n",
      " 24.2 21.7 22.8 23.4 24.1 21.4 20.  20.8 21.2 20.3 28.  23.9 24.8 22.9\n",
      " 23.9 26.6 22.5 22.2 23.6 28.7 22.6 22.  22.9 25.  20.6 28.4 21.4 38.7\n",
      " 43.8 33.2 27.5 26.5 18.6 19.3 20.1 19.5 19.5 20.4 19.8 19.4 21.7 22.8\n",
      " 18.8 18.7 18.5 18.3 21.2 19.2 20.4 19.3 22.  20.3 20.5 17.3 18.8 21.4\n",
      " 15.7 16.2 18.  14.3 19.2 19.6 23.  18.4 15.6 18.1 17.4 17.1 13.3 17.8\n",
      " 14.  14.4 13.4 15.6 11.8 13.8 15.6 14.6 17.8 15.4 21.5 19.6 15.3 19.4\n",
      " 17.  15.6 13.1 41.3 24.3 23.3 27.  50.  50.  50.  22.7 25.  50.  23.8\n",
      " 23.8 22.3 17.4 19.1 23.1 23.6 22.6 29.4 23.2 24.6 29.9 37.2 39.8 36.2\n",
      " 37.9 32.5 26.4 29.6 50.  32.  29.8 34.9 37.  30.5 36.4 31.1 29.1 50.\n",
      " 33.3 30.3 34.6 34.9 32.9 24.1 42.3 48.5 50.  22.6 24.4 22.5 24.4 20.\n",
      " 21.7 19.3 22.4 28.1 23.7 25.  23.3 28.7 21.5 23.  26.7 21.7 27.5 30.1\n",
      " 44.8 50.  37.6 31.6 46.7 31.5 24.3 31.7 41.7 48.3 29.  24.  25.1 31.5\n",
      " 23.7 23.3 22.  20.1 22.2 23.7 17.6 18.5 24.3 20.5 24.5 26.2 24.4 24.8\n",
      " 29.6 42.8 21.9 20.9 44.  50.  36.  30.1 33.8 43.1 48.8 31.  36.5 22.8\n",
      " 30.7 50.  43.5 20.7 21.1 25.2 24.4 35.2 32.4 32.  33.2 33.1 29.1 35.1\n",
      " 45.4 35.4 46.  50.  32.2 22.  20.1 23.2 22.3 24.8 28.5 37.3 27.9 23.9\n",
      " 21.7 28.6 27.1 20.3 22.5 29.  24.8 22.  26.4 33.1 36.1 28.4 33.4 28.2\n",
      " 22.8 20.3 16.1 22.1 19.4 21.6 23.8 16.2 17.8 19.8 23.1 21.  23.8 23.1\n",
      " 20.4 18.5 25.  24.6 23.  22.2 19.3 22.6 19.8 17.1 19.4 22.2 20.7 21.1\n",
      " 19.5 18.5 20.6 19.  18.7 32.7 16.5 23.9 31.2 17.5 17.2 23.1 24.5 26.6\n",
      " 22.9 24.1 18.6 30.1 18.2 20.6 17.8 21.7 22.7 22.6 25.  19.9 20.8 16.8\n",
      " 21.9 27.5 21.9 23.1 50.  50.  50.  50.  50.  13.8 13.8 15.  13.9 13.3\n",
      " 13.1 10.2 10.4 10.9 11.3 12.3  8.8  7.2 10.5  7.4 10.2 11.5 15.1 23.2\n",
      "  9.7 13.8 12.7 13.1 12.5  8.5  5.   6.3  5.6  7.2 12.1  8.3  8.5  5.\n",
      " 11.9 27.9 17.2 27.5 15.  17.2 17.9 16.3  7.   7.2  7.5 10.4  8.8  8.4\n",
      " 16.7 14.2 20.8 13.4 11.7  8.3 10.2 10.9 11.   9.5 14.5 14.1 16.1 14.3\n",
      " 11.7 13.4  9.6  8.7  8.4 12.8 10.5 17.1 18.4 15.4 10.8 11.8 14.9 12.6\n",
      " 14.1 13.  13.4 15.2 16.1 17.8 14.9 14.1 12.7 13.5 14.9 20.  16.4 17.7\n",
      " 19.5 20.2 21.4 19.9 19.  19.1 19.1 20.1 19.9 19.6 23.2 29.8 13.8 13.3\n",
      " 16.7 12.  14.6 21.4 23.  23.7 25.  21.8 20.6 21.2 19.1 20.6 15.2  7.\n",
      "  8.1 13.6 20.1 21.8 24.5 23.1 19.7 18.3 21.2 17.5 16.8 22.4 20.6 23.9\n",
      " 22.  11.9]\n"
     ]
    }
   ],
   "source": [
    "# TODO: extract the MEDV\n",
    "data_np = data_poly\n",
    "data_again = pd.read_csv(file_path)\n",
    "y = data_again['MEDV'].values\n",
    "print(\"Shape of y:\", y.shape)\n",
    "print(y)"
   ]
  },
  {
   "cell_type": "markdown",
   "metadata": {
    "id": "6zVgga7tobBP"
   },
   "source": [
    "\n",
    "\n",
    "Split the dataset into two parts such that the training set contains 80% of the samples."
   ]
  },
  {
   "cell_type": "code",
   "execution_count": 32,
   "metadata": {
    "id": "2LGiy-8LobKh"
   },
   "outputs": [],
   "source": [
    "# TODO: Split the dataset into two parts such that the training set contains 80% of the samples.\n",
    "X = data_np\n",
    "X_train, X_test, y_train, y_test = train_test_split(X, y, test_size=0.2, random_state=42)"
   ]
  },
  {
   "cell_type": "markdown",
   "metadata": {
    "id": "s-rejkt9FHTj"
   },
   "source": [
    "# Training"
   ]
  },
  {
   "cell_type": "markdown",
   "metadata": {
    "id": "_qoiRXLOv25z"
   },
   "source": [
    "\n",
    "Fit a linear regressor to the data. (Use sklearn)\n"
   ]
  },
  {
   "cell_type": "code",
   "execution_count": 48,
   "metadata": {
    "colab": {
     "base_uri": "https://localhost:8080/",
     "height": 75
    },
    "id": "jWvwdl-Iv3FF",
    "outputId": "e04d3313-9c29-49b4-a947-f0233d77bfe2"
   },
   "outputs": [
    {
     "name": "stdout",
     "output_type": "stream",
     "text": [
      "Train MSE: 6.65783903781899\n",
      "Test MSE: 18.12207667424311\n"
     ]
    }
   ],
   "source": [
    "# TODO: Use sklearn\n",
    "model = LinearRegression()\n",
    "model.fit(X_train, y_train)\n",
    "\n",
    "y_train_pred = model.predict(X_train)\n",
    "y_test_pred = model.predict(X_test)\n",
    "\n",
    "train_mse = mean_squared_error(y_train, y_train_pred)\n",
    "test_mse = mean_squared_error(y_test, y_test_pred)\n",
    "\n",
    "print(\"Train MSE:\", train_mse)\n",
    "print(\"Test MSE:\", test_mse)"
   ]
  },
  {
   "cell_type": "markdown",
   "metadata": {
    "id": "8ytvTJ60v3Oq"
   },
   "source": [
    "Get the coefficients of the variables and visualize it"
   ]
  },
  {
   "cell_type": "code",
   "execution_count": 49,
   "metadata": {
    "colab": {
     "base_uri": "https://localhost:8080/",
     "height": 748
    },
    "id": "Lh9C3xihv3X3",
    "outputId": "0e966ec2-f435-455f-dc8f-71cbeeadcb6e"
   },
   "outputs": [
    {
     "name": "stdout",
     "output_type": "stream",
     "text": [
      "Coefficients of the variables in the sklearn:  [ 2.6154321   0.82393716  0.27136263 -3.48211983 -1.29409137  3.44585661\n",
      " -1.21943076 -1.81707978 -1.35705037 -0.76272409  0.09412848 -3.26790109\n",
      "  0.18881553 -2.12293611  3.27201664  2.99592944 -2.33583776  0.34763137\n",
      "  0.20874183  2.21883471 -2.3332244  -2.04447912  0.00741757  1.1932215\n",
      " -0.0841126   0.10138591  0.27470966 -2.78021092 -0.15279813  0.76158833\n",
      " -1.08630659  2.9712488  -0.26864023 -3.02213841 -1.60704564  1.31321171\n",
      " -0.31101422 -0.51019783  1.28252455  1.32809034  1.38205448 -0.65090506\n",
      " -1.06080996  0.7722254  -0.50635113  1.37177961 -1.08949576 -0.95013821\n",
      " -0.44543729 -1.69626905  0.54715814 -0.18858163  0.00691852 -0.47122609\n",
      " -0.37917028 -1.24093403  0.37674064  3.63408849  1.95669949 -2.07628197\n",
      " -0.48758374  0.5331536   0.73480488 -0.47672061  0.14479989 -2.03085847\n",
      " -1.1821997  -0.46294466  0.69666166  0.06214453  0.43530299 -0.67289245\n",
      "  0.37224018 -1.12519132 -1.17650773  2.24180978 -2.15987726 -0.53315683\n",
      "  0.44254117  0.74073985 -0.11801545  4.20887909 -1.01095438 -2.4866206\n",
      " -0.48651899  0.10489085  0.07616319 -0.32974278  0.16316054  1.4025542 ]\n"
     ]
    },
    {
     "data": {
      "image/png": "[encoded data removed]",
      "text/plain": [
       "<Figure size 1000x600 with 1 Axes>"
      ]
     },
     "metadata": {},
     "output_type": "display_data"
    }
   ],
   "source": [
    "coefficients = model.coef_\n",
    "print(\"Coefficients of the variables in the sklearn: \", coefficients)\n",
    "\n",
    "plt.figure(figsize=(10, 6))\n",
    "plt.bar(range(len(coefficients)), coefficients)\n",
    "plt.title(\"Comparison of Coefficients\")\n",
    "plt.xlabel(\"Coefficient Index\")\n",
    "plt.ylabel(\"Coefficient Value\")\n",
    "plt.show()"
   ]
  },
  {
   "cell_type": "markdown",
   "metadata": {
    "id": "eTCcA4W8v3f4"
   },
   "source": [
    "Get the score value of sklearn regressor on train dataset</br>\n",
    "if you are not familiar with R-squared concept see the link below:\n",
    "[R-squared](https://statisticsbyjim.com/regression/interpret-r-squared-regression/)\n",
    "\n"
   ]
  },
  {
   "cell_type": "code",
   "execution_count": 50,
   "metadata": {
    "colab": {
     "base_uri": "https://localhost:8080/"
    },
    "id": "onAXRIl7v3qJ",
    "outputId": "38ef1164-840d-4446-906b-53f8707d8f75"
   },
   "outputs": [
    {
     "name": "stdout",
     "output_type": "stream",
     "text": [
      "R2 score on the training dataset: 0.9233615957926449\n",
      "MSE on the training dataset: 6.65783903781899\n"
     ]
    }
   ],
   "source": [
    "# TODO: Calculate R² score and MSE on the training dataset\n",
    "train_r2_score = model.score(X_train, y_train)\n",
    "print(\"R2 score on the training dataset:\", train_r2_score)\n",
    "print(\"MSE on the training dataset:\", train_mse)"
   ]
  },
  {
   "cell_type": "markdown",
   "metadata": {
    "id": "RXBvLGMcwpbT"
   },
   "source": [
    "Predict the value of \"y\" for each \"x\" belonging to the \"testing\" set"
   ]
  },
  {
   "cell_type": "code",
   "execution_count": 51,
   "metadata": {
    "id": "bA_DNqeKwprp"
   },
   "outputs": [
    {
     "name": "stdout",
     "output_type": "stream",
     "text": [
      "Predicted values of y for the test set:\n",
      "[26.60760472 39.62214268 18.71401934 21.00627478 15.36932115 18.14967249\n",
      " 19.2680689  14.04520907 20.41411804 19.68358046 19.34721612 17.80080883\n",
      "  9.52923494 17.56130221 17.61765281 23.1886407  19.83784911  9.82571722\n",
      " 48.00938013 13.01200313 24.67113881 28.75366122 15.14797668 19.48768303\n",
      " 16.8711114  16.54597743 17.07120558 13.34377675 16.66485127 19.34855953\n",
      " 18.50229727 23.95889069 15.48239335 25.70102382 13.69224402 17.48588361\n",
      " 33.1589375  20.10130817 20.24277819 21.68697931 16.91569466 31.33039866\n",
      " 53.78155342 15.35787882 27.30502419 15.90970181 14.76748839 23.49841731\n",
      " 17.57527936 29.19894908 19.95253249 33.61207695 17.02933983 26.86934524\n",
      " 44.01327048 23.0722288  13.43102214 32.42020215 25.15187612 12.20309801\n",
      " 25.03914004 29.01333968 31.99975955 14.25741358 27.2478974  13.81980117\n",
      " 14.35877776 24.56841459 29.12596225 12.07120755 21.52505912 27.39851469\n",
      "  9.60239834 22.99803726 19.8464662   7.55139317 22.13069349 49.95089019\n",
      " 11.35178549 11.98183645 18.34848076 12.31262512 15.91992994 11.17875652\n",
      " 20.05758709 28.21017905 17.52432039 24.64183624 25.95216955 18.86643395\n",
      " 24.91833318  7.26540165 20.04649013 17.38110339 44.76506329 20.87525411\n",
      " 25.80390969  5.75854824 11.00494177 15.63482602 23.13270522 20.58824762]\n"
     ]
    }
   ],
   "source": [
    "print(\"Predicted values of y for the test set:\")\n",
    "print(y_test_pred)"
   ]
  },
  {
   "cell_type": "markdown",
   "metadata": {
    "id": "z_aF3pNEFP79"
   },
   "source": [
    "# Lasso Regularization(L1)"
   ]
  },
  {
   "cell_type": "markdown",
   "metadata": {
    "id": "PPMTy_D_wp-X"
   },
   "source": [
    "L1 regularization, also known as Lasso (Least Absolute Shrinkage and Selection Operator) regularization, is a technique used in regression models that encourages simplicity and sparsity in the model coefficients. This is achieved by adding a penalty equal to the absolute value of the magnitude of coefficients to the loss function.\\\n",
    "</br>\n",
    "Train a regression model using L1 regularization."
   ]
  },
  {
   "cell_type": "code",
   "execution_count": 53,
   "metadata": {
    "colab": {
     "base_uri": "https://localhost:8080/",
     "height": 75
    },
    "id": "SHr5JR4fwqHO",
    "outputId": "b923d4b7-3f37-46a1-edd9-872da51e1cb1"
   },
   "outputs": [
    {
     "name": "stdout",
     "output_type": "stream",
     "text": [
      "Train MSE: 15.886654948497318\n",
      "Test MSE: 16.227426678090254\n"
     ]
    }
   ],
   "source": [
    "# TODO: Use Lasso from sklearn library\n",
    "lasso_model = Lasso(alpha=0.5)\n",
    "lasso_model.fit(X_train, y_train)\n",
    "y_train_pred_lasso = lasso_model.predict(X_train)\n",
    "y_test_pred_lasso = lasso_model.predict(X_test)\n",
    "\n",
    "lasso_train_mse = mean_squared_error(y_train, y_train_pred_lasso)\n",
    "lasso_test_mse = mean_squared_error(y_test, y_test_pred_lasso)\n",
    "\n",
    "print(\"Train MSE:\", lasso_train_mse)\n",
    "print(\"Test MSE:\", lasso_test_mse)"
   ]
  },
  {
   "cell_type": "markdown",
   "metadata": {
    "id": "du892nvjwqPi"
   },
   "source": [
    "Get the coefficients of the variables and visualize it."
   ]
  },
  {
   "cell_type": "code",
   "execution_count": 41,
   "metadata": {
    "colab": {
     "base_uri": "https://localhost:8080/",
     "height": 748
    },
    "id": "W-yiCdq1wqcn",
    "outputId": "ef30ac28-35bb-41ba-bcd3-520d5ef264f8"
   },
   "outputs": [
    {
     "name": "stdout",
     "output_type": "stream",
     "text": [
      "Coefficients of the variables in the sklearn:  [-0.          0.         -0.          0.         -0.          2.71044561\n",
      " -0.         -0.         -0.17551806 -0.87919831  0.         -3.61571562\n",
      " -0.09172222  0.         -0.          0.         -0.          0.\n",
      " -0.          0.         -0.         -0.         -0.         -0.\n",
      "  0.          0.          0.          0.          0.         -0.\n",
      " -0.          0.          0.         -0.         -0.          0.\n",
      "  0.         -0.         -0.          0.          0.          0.\n",
      " -0.          0.         -0.          0.21657471 -0.         -0.\n",
      "  0.         -0.          0.09712834  0.          0.         -0.\n",
      " -0.20798319 -0.1485112  -0.          0.         -0.         -0.\n",
      "  0.         -0.          0.7562266  -0.          0.         -0.85199921\n",
      " -0.59720675  0.         -0.          0.          0.         -0.\n",
      " -0.         -0.         -0.         -0.          0.          0.\n",
      " -0.          0.26961623  0.          0.         -0.         -0.8353172\n",
      "  0.         -0.         -0.         -0.24304235 -0.          0.46962857]\n"
     ]
    },
    {
     "data": {
      "image/png": "[encoded data removed]",
      "text/plain": [
       "<Figure size 1000x600 with 1 Axes>"
      ]
     },
     "metadata": {},
     "output_type": "display_data"
    }
   ],
   "source": [
    "coefficients = lasso_model.coef_\n",
    "print(\"Coefficients of the variables in the sklearn: \", coefficients)\n",
    "\n",
    "plt.figure(figsize=(10, 6))\n",
    "plt.bar(range(len(coefficients)), coefficients)\n",
    "plt.title(\"Comparison of Coefficients\")\n",
    "plt.xlabel(\"Coefficient Index\")\n",
    "plt.ylabel(\"Coefficient Value\")\n",
    "plt.show()"
   ]
  },
  {
   "cell_type": "markdown",
   "metadata": {
    "id": "mI3QuD8Wydqc"
   },
   "source": [
    "1- What observations can you make about the weight distribution when applying L1 regularization?\n",
    "\n",
    "2- How do different values of the regularization parameter (alpha) affect the sparsity of the model coefficients?"
   ]
  },
  {
   "cell_type": "markdown",
   "metadata": {
    "id": "RREHXw6dydzd"
   },
   "source": [
    "    Your Answer Goes here.\n",
    "1. L1 regularization has set some coefficients to zero, leading to a sparse model. By setting some coefficients to exactly zero, we identify the important features, so we can use them in feature selection for a simpler model and discarding the unimportant ones.\n",
    "\n",
    "2. higher values of alpha will set more coefficients to zero, making our model sparser and discarding more features, in this way we might lose some of important features, leading to higher error. On the other hand, lower values of alpha will allow more features to remain non-zero and contribute to our prediction, leading to possible a denser and more complex model. So we have to tune alpha value and control the trade-off model complexity and regularization strength with higher chance of losing important information"
   ]
  },
  {
   "cell_type": "markdown",
   "metadata": {
    "id": "VWHqbCktz2OD"
   },
   "source": [
    "Get the score value on train *dataset*\n"
   ]
  },
  {
   "cell_type": "code",
   "execution_count": 54,
   "metadata": {
    "colab": {
     "base_uri": "https://localhost:8080/"
    },
    "id": "RbHNlgfTz2WI",
    "outputId": "1ceef91c-c952-4d4b-9270-a539410cc97f"
   },
   "outputs": [
    {
     "name": "stdout",
     "output_type": "stream",
     "text": [
      "R2 score on the training dataset: 0.817128669448194\n",
      "MSE on the training dataset: 15.886654948497318\n"
     ]
    }
   ],
   "source": [
    "# TODO: Calculate R² score and MSE on the training dataset\n",
    "lasso_train_r2_score = lasso_model.score(X_train, y_train)\n",
    "print(\"R2 score on the training dataset:\", lasso_train_r2_score)\n",
    "print(\"MSE on the training dataset:\", lasso_train_mse)"
   ]
  },
  {
   "cell_type": "markdown",
   "metadata": {
    "id": "hjI1nMXVz2f2"
   },
   "source": [
    "Predict the value of \"y\" for each \"x\" belonging to the \"testing\" set"
   ]
  },
  {
   "cell_type": "code",
   "execution_count": 55,
   "metadata": {
    "id": "KfOWH0oQz2mY"
   },
   "outputs": [
    {
     "name": "stdout",
     "output_type": "stream",
     "text": [
      "Predicted values of y for the test set:\n",
      "[25.01553605 32.02170508 16.56431707 23.67545781 17.13464034 21.69118954\n",
      " 18.08272601 14.79576716 20.40693987 19.6387817  21.53217387 19.92343501\n",
      "  6.64235117 21.28994714 19.61841959 22.15653103 18.10047426 11.57157362\n",
      " 42.41465504 16.42067495 21.39943226 25.60136064 15.78693485 22.04815612\n",
      " 17.9021186  17.00238679 19.88982538 13.39822411 21.17351703 19.18396855\n",
      " 18.45930572 24.45954182 22.28497567 22.26103013 14.87175003 17.51351063\n",
      " 32.12600448 20.57590791 22.56516819 20.96313305 15.55620789 27.56743981\n",
      " 44.34319575 18.69292057 24.52131935 17.12080258 16.94276939 24.60012608\n",
      " 18.02835641 28.77188928 21.29219328 31.99034286 17.89886858 25.3993675\n",
      " 39.45589001 22.16073425 17.33354312 28.94005254 23.43768009 17.00480941\n",
      " 24.78746672 31.5308728  28.44268606 19.11754198 26.06453555 17.74025689\n",
      " 17.46661041 24.07595784 27.21904407 12.41794401 18.96854429 25.30678507\n",
      " 12.52088818 21.93187535 22.04846018  8.76834845 20.47808211 41.66158441\n",
      " 15.06191799 13.48259615 21.44899084 12.04377305 21.41888025 13.33517454\n",
      " 21.09970534 29.74964082 18.10571831 24.96133183 24.51130599 19.7996216\n",
      " 22.33310177 10.22300224 20.74225997 19.942328   33.26834975 21.54646686\n",
      " 22.90863042  7.80871909 13.38402503 12.52417522 20.25376137 23.3348229 ]\n"
     ]
    }
   ],
   "source": [
    "print(\"Predicted values of y for the test set:\")\n",
    "print(y_test_pred_lasso)"
   ]
  },
  {
   "cell_type": "markdown",
   "metadata": {
    "id": "XHpNCGELFZsu"
   },
   "source": [
    "# Ridge Regularization(L2)"
   ]
  },
  {
   "cell_type": "markdown",
   "metadata": {
    "id": "qsVvbx5vy3LP"
   },
   "source": [
    "L2 regularization, also known as Ridge regularization, is a technique used in regression models to prevent overfitting by adding a penalty equivalent to the square of the magnitude of coefficients to the loss function.\n",
    "</br>\n",
    "Train a regression model using L2 regularization."
   ]
  },
  {
   "cell_type": "code",
   "execution_count": 56,
   "metadata": {
    "colab": {
     "base_uri": "https://localhost:8080/",
     "height": 75
    },
    "id": "ww93tqpWwq99",
    "outputId": "951a597a-5bd0-44bd-bdb3-9660207445d5"
   },
   "outputs": [
    {
     "name": "stdout",
     "output_type": "stream",
     "text": [
      "Train MSE: 7.4368800090845655\n",
      "Test MSE: 15.110036846916458\n"
     ]
    }
   ],
   "source": [
    "# TODO: Use Ridge from sklearn library\n",
    "ridge_model = Ridge(alpha=10)\n",
    "ridge_model.fit(X_train, y_train)\n",
    "\n",
    "y_train_pred_ridge = ridge_model.predict(X_train)\n",
    "y_test_pred_ridge = ridge_model.predict(X_test)\n",
    "\n",
    "ridge_train_mse = mean_squared_error(y_train, y_train_pred_ridge)\n",
    "ridge_test_mse = mean_squared_error(y_test, y_test_pred_ridge)\n",
    "\n",
    "print(\"Train MSE:\", ridge_train_mse)\n",
    "print(\"Test MSE:\", ridge_test_mse)"
   ]
  },
  {
   "cell_type": "markdown",
   "metadata": {
    "id": "EwXQdOdQ0c4y"
   },
   "source": [
    "Get the coefficients of the variables and visualize it."
   ]
  },
  {
   "cell_type": "code",
   "execution_count": 57,
   "metadata": {
    "colab": {
     "base_uri": "https://localhost:8080/",
     "height": 748
    },
    "id": "CmVqcA6r0dEe",
    "outputId": "f4fc8fc8-c6a0-4b3a-d20d-3f26bed94025"
   },
   "outputs": [
    {
     "name": "stdout",
     "output_type": "stream",
     "text": [
      "Coefficients of the variables in the sklearn:  [ 0.05912156  0.51116396 -0.28467561 -0.32455353 -0.85827735  3.30888276\n",
      " -1.15903729 -1.59593251 -0.53180157 -0.91042787  0.42828162 -2.94077889\n",
      "  0.16087076 -0.2517118   0.62754054  1.60530016 -1.09008989  0.19857273\n",
      " -0.21466179  0.91315274 -0.33329639 -0.37069977 -0.0685445   0.53227529\n",
      "  0.13451302  0.04174477  0.21402759 -0.19753069 -0.13818418  0.11128147\n",
      " -0.41118718  0.69356948 -0.05349153 -0.33153368 -0.6523907   0.65774546\n",
      "  0.00626011  0.17510478  0.56882038  0.84405893  0.75253857 -0.01735362\n",
      " -0.74138428  0.38541275 -0.84892644  0.44774634 -0.95605317 -0.87633987\n",
      " -0.11780543 -0.84245313  0.77371237 -0.05986682 -0.05282303 -0.5612907\n",
      " -0.35054369 -1.10824908 -0.28920456  0.95796985  0.161939   -0.72743981\n",
      " -0.23024552  0.59678367  0.61007814 -0.35547651  0.25507285 -1.39082276\n",
      " -1.30777268 -0.34506817  0.43935663  0.18768566  0.33640313  0.12071674\n",
      "  0.17082987 -0.88889616 -0.93434533  1.1011708  -0.55229718 -0.01954442\n",
      " -0.25679014  0.78714857  0.62433033  1.95275298 -0.76210143 -1.82196645\n",
      " -0.39640046  0.20411156 -0.0280015  -0.3462849   0.03535942  1.27443078]\n"
     ]
    },
    {
     "data": {
      "image/png": "[encoded data removed]",
      "text/plain": [
       "<Figure size 1000x600 with 1 Axes>"
      ]
     },
     "metadata": {},
     "output_type": "display_data"
    }
   ],
   "source": [
    "coefficients = ridge_model.coef_\n",
    "print(\"Coefficients of the variables in the sklearn: \", coefficients)\n",
    "\n",
    "plt.figure(figsize=(10, 6))\n",
    "plt.bar(range(len(coefficients)), coefficients)\n",
    "plt.title(\"Comparison of Coefficients\")\n",
    "plt.xlabel(\"Coefficient Index\")\n",
    "plt.ylabel(\"Coefficient Value\")\n",
    "plt.show()"
   ]
  },
  {
   "cell_type": "markdown",
   "metadata": {
    "id": "uc_LYcVZ0dOQ"
   },
   "source": [
    "Compare the effect on coefficients between L1 and L2 regularization. What are the key differences?\n",
    "\n",
    " How does the regularization parameter influence the magnitude of the coefficients in Ridge Regression?"
   ]
  },
  {
   "cell_type": "markdown",
   "metadata": {
    "id": "vz3VZj1H1E5D"
   },
   "source": [
    "        Your answer goes here\n",
    "        \n",
    "1. L2 regularization doesn't set the coefficients to exactly zero, it just moves the coefficients values toward zero, which doesn't necessarily contribute to making the model sparser and feature selection. So unimportant features might still have non-zero values. On the other hand, in L1 regularization, some features will be eliminated because of their lack of importance. In conclusion, in L2 regularization we just move the values of coefficients toward zero which will lead to a simpler model with control over the range of coefficient values, while in L1 we discard unimportant features, leading to a sparser model\n",
    "        \n",
    "2. Similarly, in L2 regularization, higher values of alpha will move coefficient values toward zero, but lower values of alpha will allow coefficients to be larger. So it just controls the magnitude of coefficient values"
   ]
  },
  {
   "cell_type": "markdown",
   "metadata": {
    "id": "8-vwV52g1KaB"
   },
   "source": [
    "Get the score value on train *dataset*"
   ]
  },
  {
   "cell_type": "code",
   "execution_count": 58,
   "metadata": {
    "colab": {
     "base_uri": "https://localhost:8080/"
    },
    "id": "WgrPqaBF0dlc",
    "outputId": "4dcafe8e-e0f0-4127-af17-c691f398226d"
   },
   "outputs": [
    {
     "name": "stdout",
     "output_type": "stream",
     "text": [
      "R2 score on the training dataset: 0.9143940529441623\n",
      "MSE on the training dataset: 7.4368800090845655\n"
     ]
    }
   ],
   "source": [
    "# TODO: Calculate R² score and MSE on the training dataset\n",
    "ridge_train_r2_score = ridge_model.score(X_train, y_train)\n",
    "print(\"R2 score on the training dataset:\", ridge_train_r2_score)\n",
    "print(\"MSE on the training dataset:\", ridge_train_mse)"
   ]
  },
  {
   "cell_type": "markdown",
   "metadata": {
    "id": "94nftWCR0dtC"
   },
   "source": [
    "Predict the value of \"y\" for each \"x\" belonging to the \"testing\" set\n",
    "\n"
   ]
  },
  {
   "cell_type": "code",
   "execution_count": 59,
   "metadata": {
    "id": "ivsbD08X0d1E"
   },
   "outputs": [
    {
     "name": "stdout",
     "output_type": "stream",
     "text": [
      "Predicted values of y for the test set:\n",
      "[26.64874045 37.58387034 19.27657644 21.94197185 15.3028101  20.12028532\n",
      " 19.06550135 13.09220054 21.53629599 19.59853597 19.98066811 17.71773856\n",
      "  7.45618135 19.4698435  17.83085991 22.41342776 19.03460611 10.83733093\n",
      " 47.87734976 13.23733086 25.94978663 28.67626209 15.62739061 20.87266644\n",
      " 16.88618107 16.70243714 18.15202381 12.99400863 19.06044753 19.1619615\n",
      " 18.49185044 23.96483655 16.81029968 24.22140047 14.71608764 17.14764076\n",
      " 33.00621736 20.36005585 21.56765845 22.00579786 16.87716829 30.83029389\n",
      " 52.86535583 16.40416721 26.70438602 16.00962769 15.37456958 24.22203195\n",
      " 18.0413712  28.35774744 18.65466298 33.07812494 17.01116837 25.34703163\n",
      " 43.22198358 23.00525594 14.66623572 32.34427145 25.00498764 14.21572885\n",
      " 24.95594853 33.4162596  30.78344757 16.16942493 25.19231399 16.02456508\n",
      " 14.58662856 24.41159615 30.32473275 12.3838725  20.94435871 27.5999913\n",
      " 10.37505112 21.25995733 20.86051995  5.76335445 20.67914828 49.65506758\n",
      " 11.15867412 13.79119622 19.12026295 12.02135127 17.93987097 11.65923594\n",
      " 20.4384127  28.76781807 17.1877647  24.60422767 25.97635678 17.98141095\n",
      " 24.09206253  7.78768441 19.1087218  18.44960327 40.68183317 20.20242572\n",
      " 24.78475146  5.72169792 11.11141082 13.76203915 22.7065681  21.98512667]\n"
     ]
    }
   ],
   "source": [
    "print(\"Predicted values of y for the test set:\")\n",
    "print(y_test_pred_ridge)"
   ]
  },
  {
   "cell_type": "markdown",
   "metadata": {
    "id": "u6iKDyiwF-2q"
   },
   "source": [
    "# Summarization"
   ]
  },
  {
   "cell_type": "markdown",
   "metadata": {
    "id": "gY7NOCfB0d9K"
   },
   "source": [
    "Summarize the performance metrics (e.g., RMSE, R² score) of the basic regression model, Lasso regression, and Ridge regression in a table for easy comparison.(On both test and train data)</br>\n",
    "if you are not familiar with R-squared concept see the link below:\n",
    "[R-squared](https://statisticsbyjim.com/regression/interpret-r-squared-regression/)\n"
   ]
  },
  {
   "cell_type": "code",
   "execution_count": 60,
   "metadata": {
    "colab": {
     "base_uri": "https://localhost:8080/"
    },
    "id": "3gI-6r2r0eEx",
    "outputId": "1a052c95-aa03-48a7-86f7-86b9fed0617f"
   },
   "outputs": [
    {
     "name": "stdout",
     "output_type": "stream",
     "text": [
      "              Model  MSE(Test)  MSE(Train)  R² Score (Test)  R² Score (Train)\n",
      "0  Basic Regression  18.122077    6.657839         0.752882          0.923362\n",
      "1  Lasso Regression  16.227427   15.886655         0.778718          0.817129\n",
      "2  Ridge Regression  15.110037    7.436880         0.793955          0.914394\n"
     ]
    }
   ],
   "source": [
    "# HINT: Use DataFrame tools\n",
    "\n",
    "\n",
    "test_r2_score = r2_score(y_test, y_test_pred)\n",
    "\n",
    "lasso_test_r2_score = r2_score(y_test, y_test_pred_lasso)\n",
    "\n",
    "\n",
    "ridge_test_r2_score = r2_score(y_test, y_test_pred_ridge)\n",
    "\n",
    "performance_df = pd.DataFrame({\n",
    "    'Model': ['Basic Regression', 'Lasso Regression', 'Ridge Regression'],\n",
    "    'MSE(Test)': [test_mse, lasso_test_mse, ridge_test_mse],\n",
    "    'MSE(Train)': [train_mse, lasso_train_mse, ridge_train_mse],\n",
    "    'R² Score (Test)': [test_r2_score, lasso_test_r2_score, ridge_test_r2_score],\n",
    "    'R² Score (Train)': [train_r2_score, lasso_train_r2_score, ridge_train_r2_score]\n",
    "})\n",
    "\n",
    "print(performance_df)"
   ]
  },
  {
   "cell_type": "markdown",
   "metadata": {
    "id": "dB2x-l231Soo"
   },
   "source": [
    " *Which model performed best on the test data?</br>\n",
    "Why the results on train data are different?</br>\n",
    "Discuss why this might be the case.*"
   ]
  },
  {
   "cell_type": "markdown",
   "metadata": {
    "id": "dRIs24F91SsH"
   },
   "source": [
    "          your answer goes here.\n",
    "\n",
    "1. Ridge regression performed the best among other on the test data which represents its generalizablity, because we avoided overfitting by penalizing the magnitude of weight vector\n",
    "2. Because in L1 and L2 regularization, we penalized the magnitude of weight vector and controled the complexity of our model, leading to sparse and simple models. Because of this, the model couldn't fit to the train data in a way it did in the basic model, leading to higher error in train set, but more generalizability\n",
    "3. We got the best result in L2 (ridge) regularization because it didn't discard some of the features, instead, it shrinked the values of coefficients. So by controlling the complexity of the model, we avoided overfitting and got better result in the general case (Test data). In the basic model, we clearly overfit to the train data, because it lacks generalizablity while performing very good on train data. In Lasso model, we avoided overfittting and made the model more generalizable, but still, some of the features were discarded, which reduced the model's prediction score. Finally, in Ridge model, as I mentioned before, we avoided overfitting by penalizing the magnitude of weight vector, but not setting some of them to exactly zero, instead, we moved the values of coefficients toward zero leading to a simpler model with more generalizability at the same time."
   ]
  }
 ],
 "metadata": {
  "colab": {
   "gpuType": "T4",
   "provenance": []
  },
  "kernelspec": {
   "display_name": "Python 3 (ipykernel)",
   "language": "python",
   "name": "python3"
  },
  "language_info": {
   "codemirror_mode": {
    "name": "ipython",
    "version": 3
   },
   "file_extension": ".py",
   "mimetype": "text/x-python",
   "name": "python",
   "nbconvert_exporter": "python",
   "pygments_lexer": "ipython3",
   "version": "3.10.9"
  }
 },
 "nbformat": 4,
 "nbformat_minor": 1
}
