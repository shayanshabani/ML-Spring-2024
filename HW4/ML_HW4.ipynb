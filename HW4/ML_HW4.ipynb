{
 "cells": [
  {
   "cell_type": "markdown",
   "metadata": {
    "id": "MT-ucU8DVPt8"
   },
   "source": [
    "# Bank Marketing Classification\n",
    "\n",
    "In this part of the assignment we want to do a classification task using PyTorch on bank marketing dataset."
   ]
  },
  {
   "cell_type": "markdown",
   "metadata": {
    "id": "rZlNNmgqYkV4"
   },
   "source": [
    "# Import Library"
   ]
  },
  {
   "cell_type": "code",
   "execution_count": 1,
   "metadata": {
    "id": "NOh9eJ4pYnu2"
   },
   "outputs": [],
   "source": [
    "import torch\n",
    "import torch.nn as nn\n",
    "import torch.optim as optim\n",
    "import pandas as pd\n",
    "import tqdm\n",
    "import numpy as np\n",
    "import matplotlib.pyplot as plt\n",
    "from sklearn.model_selection import train_test_split\n",
    "from sklearn.preprocessing import StandardScaler, LabelEncoder\n",
    "from torch.utils.data import DataLoader, TensorDataset"
   ]
  },
  {
   "cell_type": "markdown",
   "metadata": {
    "id": "EJaMVgX1XcZm"
   },
   "source": [
    "# Load Dataset\n",
    "Here, you should download and load the dataset. After that, you should split train dataset to train and validation sets. Finally, define the dataloaders for `train`, `validation` and `test`"
   ]
  },
  {
   "cell_type": "code",
   "execution_count": 10,
   "metadata": {
    "id": "9YSstSPUXwu2"
   },
   "outputs": [
    {
     "name": "stdout",
     "output_type": "stream",
     "text": [
      "Training Set Shape: (31647, 42) (31647,)\n",
      "Validation Set Shape: (6782, 42) (6782,)\n",
      "Test Set Shape: (6782, 42) (6782,)\n"
     ]
    }
   ],
   "source": [
    "#TODO\n",
    "\n",
    "df = pd.read_csv('bank-full.csv', delimiter=';')\n",
    "X = df.drop(columns=['y'])\n",
    "y = df['y']\n",
    "\n",
    "le = LabelEncoder()\n",
    "\n",
    "X_encoded = pd.get_dummies(X, drop_first=True)\n",
    "y_encoded = le.fit_transform(y)\n",
    "\n",
    "X_train, X_temp, y_train, y_temp = train_test_split(X_encoded, y_encoded, test_size=0.3, random_state=42)\n",
    "X_val, X_test, y_val, y_test = train_test_split(X_temp, y_temp, test_size=0.5, random_state=42)\n",
    "\n",
    "print(\"Training Set Shape:\", X_train.shape, y_train.shape)\n",
    "print(\"Validation Set Shape:\", X_val.shape, y_val.shape)\n",
    "print(\"Test Set Shape:\", X_test.shape, y_test.shape)"
   ]
  },
  {
   "cell_type": "markdown",
   "metadata": {
    "id": "Keip2OUFX8qk"
   },
   "source": [
    "# Normalize data\n",
    "normalize numerical data."
   ]
  },
  {
   "cell_type": "code",
   "execution_count": 11,
   "metadata": {
    "id": "e-Wk_AoiYfo4"
   },
   "outputs": [],
   "source": [
    "# Normalize numerical data\n",
    "\n",
    "scaler = StandardScaler()\n",
    "X_train = scaler.fit_transform(X_train)\n",
    "X_val = scaler.transform(X_val)\n",
    "X_test = scaler.transform(X_test)"
   ]
  },
  {
   "cell_type": "markdown",
   "metadata": {
    "id": "8TnDg_OtYrWl"
   },
   "source": [
    "# Create Data Loader\n",
    "create data loader for pytorch"
   ]
  },
  {
   "cell_type": "code",
   "execution_count": 13,
   "metadata": {
    "id": "yIdgxZMUYqzE"
   },
   "outputs": [],
   "source": [
    "#TODO\n",
    "\n",
    "X_train_tensor = torch.tensor(X_train, dtype=torch.float32)\n",
    "y_train_tensor = torch.tensor(y_train, dtype=torch.long)\n",
    "X_val_tensor = torch.tensor(X_val, dtype=torch.float32)\n",
    "y_val_tensor = torch.tensor(y_val, dtype=torch.long)\n",
    "X_test_tensor = torch.tensor(X_test, dtype=torch.float32)\n",
    "y_test_tensor = torch.tensor(y_test, dtype=torch.long)\n",
    "\n",
    "train_dataset = TensorDataset(X_train_tensor, y_train_tensor)\n",
    "val_dataset = TensorDataset(X_val_tensor, y_val_tensor)\n",
    "test_dataset = TensorDataset(X_test_tensor, y_test_tensor)\n",
    "\n",
    "train_loader = DataLoader(train_dataset, batch_size=32, shuffle=True)\n",
    "val_loader = DataLoader(val_dataset, batch_size=32, shuffle=False)\n",
    "test_loader = DataLoader(test_dataset, batch_size=32, shuffle=False)"
   ]
  },
  {
   "cell_type": "markdown",
   "metadata": {
    "id": "GBtQo2PBY9zS"
   },
   "source": [
    "# Model\n",
    "define your model in here"
   ]
  },
  {
   "cell_type": "code",
   "execution_count": 15,
   "metadata": {
    "id": "C5k1GGexZCGD"
   },
   "outputs": [],
   "source": [
    "class BankMarketingNet(nn.Module):\n",
    "    def __init__(self, input_dim, hidden_dim1=64, hidden_dim2=32):\n",
    "        super(BankMarketingNet, self).__init__()\n",
    "        self.fc1 = nn.Linear(input_dim, hidden_dim1)\n",
    "        self.fc2 = nn.Linear(hidden_dim1, hidden_dim2)\n",
    "        self.fc3 = nn.Linear(hidden_dim2, 1)\n",
    "        self.relu = nn.ReLU()\n",
    "        self.sigmoid = nn.Sigmoid()\n",
    "\n",
    "    def forward(self, x):\n",
    "        x = self.relu(self.fc1(x))\n",
    "        x = self.relu(self.fc2(x))\n",
    "        x = self.sigmoid(self.fc3(x))\n",
    "        return x\n",
    "\n",
    "    \n",
    "input_dim = X_train_tensor.shape[1]\n",
    "model = BankMarketingNet(input_dim)"
   ]
  },
  {
   "cell_type": "markdown",
   "metadata": {
    "id": "P_ef2VVkZHpj"
   },
   "source": [
    "# Train your model\n",
    "Define `criterion` and `optimizer`.\n",
    "Train your model\n",
    "\n",
    "Tasks:\n",
    "- [ ] Things that are needed to be printed in each epoch:\n",
    "  - Number of epoch\n",
    "  - Train loss\n",
    "  - Validation loss\n",
    "- [ ] save train/validation loss (of each epoch) in an array for later usage"
   ]
  },
  {
   "cell_type": "code",
   "execution_count": 16,
   "metadata": {
    "colab": {
     "base_uri": "https://localhost:8080/"
    },
    "id": "7BC2acuYZH0j",
    "outputId": "813dc792-19f9-47ea-f65d-ceb1553aef10"
   },
   "outputs": [
    {
     "name": "stdout",
     "output_type": "stream",
     "text": [
      "Epoch 1/20, Training loss: 0.2476, Validation loss: 0.2199\n",
      "Epoch 2/20, Training loss: 0.2111, Validation loss: 0.2134\n",
      "Epoch 3/20, Training loss: 0.2047, Validation loss: 0.2120\n",
      "Epoch 4/20, Training loss: 0.2002, Validation loss: 0.2100\n",
      "Epoch 5/20, Training loss: 0.1960, Validation loss: 0.2135\n",
      "Epoch 6/20, Training loss: 0.1923, Validation loss: 0.2129\n",
      "Epoch 7/20, Training loss: 0.1886, Validation loss: 0.2139\n",
      "Epoch 8/20, Training loss: 0.1861, Validation loss: 0.2122\n",
      "Epoch 9/20, Training loss: 0.1838, Validation loss: 0.2153\n",
      "Epoch 10/20, Training loss: 0.1812, Validation loss: 0.2148\n",
      "Epoch 11/20, Training loss: 0.1788, Validation loss: 0.2099\n",
      "Epoch 12/20, Training loss: 0.1770, Validation loss: 0.2154\n",
      "Epoch 13/20, Training loss: 0.1753, Validation loss: 0.2148\n",
      "Epoch 14/20, Training loss: 0.1732, Validation loss: 0.2222\n",
      "Epoch 15/20, Training loss: 0.1707, Validation loss: 0.2175\n",
      "Epoch 16/20, Training loss: 0.1688, Validation loss: 0.2228\n",
      "Epoch 17/20, Training loss: 0.1675, Validation loss: 0.2196\n",
      "Epoch 18/20, Training loss: 0.1662, Validation loss: 0.2234\n",
      "Epoch 19/20, Training loss: 0.1632, Validation loss: 0.2251\n",
      "Epoch 20/20, Training loss: 0.1618, Validation loss: 0.2265\n",
      "Test loss: 0.2209\n"
     ]
    }
   ],
   "source": [
    "#TODO\n",
    "\n",
    "learning_rate = 0.001\n",
    "num_epochs = 20\n",
    "batch_size = 32\n",
    "\n",
    "criterion = nn.BCELoss()\n",
    "optimizer = optim.Adam(model.parameters(), lr=learning_rate)\n",
    "\n",
    "\n",
    "train_losses = []\n",
    "val_losses = []\n",
    "\n",
    "def train_model(model, criterion, optimizer, train_loader, val_loader, num_epochs):\n",
    "    model.train()\n",
    "    for epoch in range(num_epochs):\n",
    "        running_loss = 0.0\n",
    "        for inputs, labels in train_loader:\n",
    "            labels = labels.unsqueeze(1).float()\n",
    "            optimizer.zero_grad()\n",
    "            outputs = model(inputs)\n",
    "            loss = criterion(outputs, labels)\n",
    "            loss.backward()\n",
    "            optimizer.step()\n",
    "            running_loss += loss.item() * inputs.size(0)\n",
    "\n",
    "        epoch_loss = running_loss / len(train_loader.dataset)\n",
    "        val_loss = evaluate_model(model, criterion, val_loader)\n",
    "        train_losses.append(epoch_loss)\n",
    "        val_losses.append(val_loss)\n",
    "        print(f\"Epoch {epoch+1}/{num_epochs}, Training loss: {epoch_loss:.4f}, Validation loss: {val_loss:.4f}\")\n",
    "\n",
    "def evaluate_model(model, criterion, val_loader):\n",
    "    model.eval()\n",
    "    running_loss = 0.0\n",
    "    with torch.no_grad():\n",
    "        for inputs, labels in val_loader:\n",
    "            labels = labels.unsqueeze(1).float()\n",
    "            outputs = model(inputs)\n",
    "            loss = criterion(outputs, labels)\n",
    "            running_loss += loss.item() * inputs.size(0)\n",
    "\n",
    "    val_loss = running_loss / len(val_loader.dataset)\n",
    "    return val_loss\n",
    "\n",
    "train_model(model, criterion, optimizer, train_loader, val_loader, num_epochs)"
   ]
  },
  {
   "cell_type": "markdown",
   "metadata": {
    "id": "OIFKhbNweZzc"
   },
   "source": [
    "### Visualize Loss plot\n",
    "\n",
    "Using the arrays that you have (from previous task in the above section), visualize Loss plot (train and validation together)"
   ]
  },
  {
   "cell_type": "code",
   "execution_count": 18,
   "metadata": {
    "colab": {
     "base_uri": "https://localhost:8080/",
     "height": 452
    },
    "id": "-uTbAB5YemMp",
    "outputId": "c788e62e-3784-4882-c780-4fd58135eba1"
   },
   "outputs": [
    {
     "data": {
      "image/png": "[encoded data removed]",
      "text/plain": [
       "<Figure size 1000x500 with 1 Axes>"
      ]
     },
     "metadata": {},
     "output_type": "display_data"
    }
   ],
   "source": [
    "#TODO\n",
    "\n",
    "plt.figure(figsize=(10, 5))\n",
    "plt.plot(train_losses, label='Training Loss')\n",
    "plt.plot(val_losses, label='Validation Loss')\n",
    "plt.xlabel('Epochs')\n",
    "plt.ylabel('Loss')\n",
    "plt.title('Training and Validation Loss over Epochs')\n",
    "plt.legend()\n",
    "plt.grid(True)\n",
    "plt.show()"
   ]
  },
  {
   "cell_type": "markdown",
   "metadata": {
    "id": "MRo2s0wMakLe"
   },
   "source": [
    "## Evaluation\n",
    "\n",
    "Test your trained model (using the Test Dataloader that you have)."
   ]
  },
  {
   "cell_type": "code",
   "execution_count": 17,
   "metadata": {
    "colab": {
     "base_uri": "https://localhost:8080/"
    },
    "id": "6TplSeYPakTT",
    "outputId": "fee4dbf4-6a55-423f-d051-262cbbac427b"
   },
   "outputs": [
    {
     "name": "stdout",
     "output_type": "stream",
     "text": [
      "Test loss: 0.2209\n",
      "Accuracy: 0.7791\n"
     ]
    }
   ],
   "source": [
    "#TODO\n",
    "test_loss = evaluate_model(model, criterion, test_loader)\n",
    "print(f\"Test loss: {test_loss:.4f}\")\n",
    "print(f\"Accuracy: {(1-test_loss):.4f}\")"
   ]
  }
 ],
 "metadata": {
  "accelerator": "GPU",
  "colab": {
   "gpuType": "T4",
   "provenance": []
  },
  "kernelspec": {
   "display_name": "Python 3 (ipykernel)",
   "language": "python",
   "name": "python3"
  },
  "language_info": {
   "codemirror_mode": {
    "name": "ipython",
    "version": 3
   },
   "file_extension": ".py",
   "mimetype": "text/x-python",
   "name": "python",
   "nbconvert_exporter": "python",
   "pygments_lexer": "ipython3",
   "version": "3.10.9"
  }
 },
 "nbformat": 4,
 "nbformat_minor": 1
}
