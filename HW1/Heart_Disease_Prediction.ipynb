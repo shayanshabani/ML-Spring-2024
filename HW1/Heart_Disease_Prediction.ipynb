{
 "cells": [
  {
   "cell_type": "markdown",
   "metadata": {
    "id": "8QU5zmW1lBAi"
   },
   "source": [
    "In this notebook, we are looking for the diagnosis of heart disease among patients using the [heart disease dataset](https://www.kaggle.com/johnsmith88/heart-disease-dataset). First, read the information about the different features, then answer the questions in each section using the attached data."
   ]
  },
  {
   "cell_type": "markdown",
   "metadata": {
    "id": "utNwgYmlKvfm"
   },
   "source": [
    "# Data"
   ]
  },
  {
   "cell_type": "markdown",
   "metadata": {
    "id": "bjntS4nxH4Hs"
   },
   "source": [
    "## Importing Libraries"
   ]
  },
  {
   "cell_type": "markdown",
   "metadata": {
    "id": "ycgOZilIJ-IO"
   },
   "source": [
    "In this notebook, you cannot use scikit learn and other libraries, except for those imported below."
   ]
  },
  {
   "cell_type": "code",
   "execution_count": 1,
   "metadata": {
    "id": "RA04oziCHqpP"
   },
   "outputs": [],
   "source": [
    "import pandas as pd\n",
    "import numpy as np\n",
    "import matplotlib.pyplot as plt\n",
    "import seaborn as sns"
   ]
  },
  {
   "cell_type": "markdown",
   "metadata": {
    "id": "TNo6F7XEH7p3"
   },
   "source": [
    "## Load Dataset"
   ]
  },
  {
   "cell_type": "markdown",
   "metadata": {
    "id": "Q1KtMuwCmomz"
   },
   "source": [
    "Load dataset csv file into a data frame."
   ]
  },
  {
   "cell_type": "code",
   "execution_count": 4,
   "metadata": {
    "id": "m7Z3egeyH-g9"
   },
   "outputs": [],
   "source": [
    "# TODO\n",
    "df = pd.read_csv('heart.csv')"
   ]
  },
  {
   "cell_type": "markdown",
   "metadata": {
    "id": "phw5_4uEIgyY"
   },
   "source": [
    "## EDA"
   ]
  },
  {
   "cell_type": "markdown",
   "metadata": {
    "id": "NkxL1k5Onuvj"
   },
   "source": [
    "In statistics, exploratory data analysis (EDA) is an approach to analyzing data sets to summarize their main characteristics, often using statistical graphics and other data visualization methods. In this section, you should analyze the data. You can use the functions provided by the Pandas library. You can use analysis such as null checking of features, number of features and samples, and type of features. But don't stop there and search for it.\n"
   ]
  },
  {
   "cell_type": "code",
   "execution_count": 7,
   "metadata": {
    "id": "-2qsSen8X1qv"
   },
   "outputs": [
    {
     "name": "stdout",
     "output_type": "stream",
     "text": [
      "Head of the dataset:\n",
      "   age  sex  cp  trestbps  chol  fbs  restecg  thalach  exang  oldpeak  slope  \\\n",
      "0   52    1   0       125   212    0        1      168      0      1.0      2   \n",
      "1   53    1   0       140   203    1        0      155      1      3.1      0   \n",
      "2   70    1   0       145   174    0        1      125      1      2.6      0   \n",
      "3   61    1   0       148   203    0        1      161      0      0.0      2   \n",
      "4   62    0   0       138   294    1        1      106      0      1.9      1   \n",
      "\n",
      "   ca  thal  target  \n",
      "0   2     3       0  \n",
      "1   0     3       0  \n",
      "2   0     3       0  \n",
      "3   1     3       0  \n",
      "4   3     2       0  \n",
      "\n",
      "*********************\n",
      "\n",
      "Missing values:\n",
      "age         0\n",
      "sex         0\n",
      "cp          0\n",
      "trestbps    0\n",
      "chol        0\n",
      "fbs         0\n",
      "restecg     0\n",
      "thalach     0\n",
      "exang       0\n",
      "oldpeak     0\n",
      "slope       0\n",
      "ca          0\n",
      "thal        0\n",
      "target      0\n",
      "dtype: int64\n",
      "\n",
      "*********************\n",
      "\n",
      "Number of samples: 1025\n",
      "Number of features: 14\n",
      "\n",
      "*********************\n",
      "\n",
      "Data types of features:\n",
      "age           int64\n",
      "sex           int64\n",
      "cp            int64\n",
      "trestbps      int64\n",
      "chol          int64\n",
      "fbs           int64\n",
      "restecg       int64\n",
      "thalach       int64\n",
      "exang         int64\n",
      "oldpeak     float64\n",
      "slope         int64\n",
      "ca            int64\n",
      "thal          int64\n",
      "target        int64\n",
      "dtype: object\n",
      "\n",
      "*********************\n",
      "\n",
      "Summary statistics:\n",
      "               age          sex           cp     trestbps        chol  \\\n",
      "count  1025.000000  1025.000000  1025.000000  1025.000000  1025.00000   \n",
      "mean     54.434146     0.695610     0.942439   131.611707   246.00000   \n",
      "std       9.072290     0.460373     1.029641    17.516718    51.59251   \n",
      "min      29.000000     0.000000     0.000000    94.000000   126.00000   \n",
      "25%      48.000000     0.000000     0.000000   120.000000   211.00000   \n",
      "50%      56.000000     1.000000     1.000000   130.000000   240.00000   \n",
      "75%      61.000000     1.000000     2.000000   140.000000   275.00000   \n",
      "max      77.000000     1.000000     3.000000   200.000000   564.00000   \n",
      "\n",
      "               fbs      restecg      thalach        exang      oldpeak  \\\n",
      "count  1025.000000  1025.000000  1025.000000  1025.000000  1025.000000   \n",
      "mean      0.149268     0.529756   149.114146     0.336585     1.071512   \n",
      "std       0.356527     0.527878    23.005724     0.472772     1.175053   \n",
      "min       0.000000     0.000000    71.000000     0.000000     0.000000   \n",
      "25%       0.000000     0.000000   132.000000     0.000000     0.000000   \n",
      "50%       0.000000     1.000000   152.000000     0.000000     0.800000   \n",
      "75%       0.000000     1.000000   166.000000     1.000000     1.800000   \n",
      "max       1.000000     2.000000   202.000000     1.000000     6.200000   \n",
      "\n",
      "             slope           ca         thal       target  \n",
      "count  1025.000000  1025.000000  1025.000000  1025.000000  \n",
      "mean      1.385366     0.754146     2.323902     0.513171  \n",
      "std       0.617755     1.030798     0.620660     0.500070  \n",
      "min       0.000000     0.000000     0.000000     0.000000  \n",
      "25%       1.000000     0.000000     2.000000     0.000000  \n",
      "50%       1.000000     0.000000     2.000000     1.000000  \n",
      "75%       2.000000     1.000000     3.000000     1.000000  \n",
      "max       2.000000     4.000000     3.000000     1.000000  \n"
     ]
    }
   ],
   "source": [
    "# TODO\n",
    "print(\"Head of the dataset:\")\n",
    "print(df.head())\n",
    "print('\\n*********************')\n",
    "print(\"\\nMissing values:\")\n",
    "print(df.isnull().sum())\n",
    "print('\\n*********************')\n",
    "num_samples, num_features = df.shape\n",
    "print(\"\\nNumber of samples:\", num_samples)\n",
    "print(\"Number of features:\", num_features)\n",
    "print('\\n*********************')\n",
    "print(\"\\nData types of features:\")\n",
    "print(df.dtypes)\n",
    "print('\\n*********************')\n",
    "print(\"\\nSummary statistics:\")\n",
    "print(df.describe())"
   ]
  },
  {
   "cell_type": "markdown",
   "metadata": {
    "id": "NOo1N_ZaKHPg"
   },
   "source": [
    "## Analysis of Features"
   ]
  },
  {
   "cell_type": "markdown",
   "metadata": {
    "id": "1fnTddu9sTll"
   },
   "source": [
    "As you have probably noticed, in the dataset that you checked, some features are discrete and the rest are continuous. The following code specifies continuous and discrete features for you. **Note**: In the cells below, `df` is the same dataframe that you loaded in the previous section. You can change its name according to your code."
   ]
  },
  {
   "cell_type": "code",
   "execution_count": 8,
   "metadata": {
    "colab": {
     "base_uri": "https://localhost:8080/"
    },
    "id": "RIcPajwSJj11",
    "outputId": "d9551a1e-e668-4d00-8dce-87c48bb62673"
   },
   "outputs": [
    {
     "name": "stdout",
     "output_type": "stream",
     "text": [
      "There are 14 features found in the data\n"
     ]
    }
   ],
   "source": [
    "feature_list = [feature for feature in df.columns]\n",
    "print(\"There are\",len(feature_list),\"features found in the data\")"
   ]
  },
  {
   "cell_type": "code",
   "execution_count": 9,
   "metadata": {
    "colab": {
     "base_uri": "https://localhost:8080/"
    },
    "id": "o3n2gCAoJmdr",
    "outputId": "65132134-22aa-49bb-8d40-384f016f09ab"
   },
   "outputs": [
    {
     "name": "stdout",
     "output_type": "stream",
     "text": [
      "Discrete Variables Count: 9\n",
      "Discrete features are  ['sex', 'cp', 'fbs', 'restecg', 'exang', 'slope', 'ca', 'thal', 'target']\n",
      "Continuous Variables Count: 5\n",
      "Continuous features are  ['age', 'trestbps', 'chol', 'thalach', 'oldpeak']\n"
     ]
    }
   ],
   "source": [
    "#Print Discrete Feature Data\n",
    "discrete_feature=[feature for feature in feature_list if len(df[feature].unique())<25]\n",
    "print(\"Discrete Variables Count: {}\".format(len(discrete_feature)))\n",
    "print(\"Discrete features are \",discrete_feature)\n",
    "\n",
    "#Print Continuous Feature Data\n",
    "cont_feature=[feature for feature in feature_list if len(df[feature].unique())>25]\n",
    "print(\"Continuous Variables Count: {}\".format(len(cont_feature)))\n",
    "print(\"Continuous features are \",cont_feature)"
   ]
  },
  {
   "cell_type": "markdown",
   "metadata": {
    "id": "zygi7E6ekk4q"
   },
   "source": [
    "# Perceptron"
   ]
  },
  {
   "cell_type": "markdown",
   "metadata": {
    "id": "js3fx5A2lnR6"
   },
   "source": [
    "### Stochastic Gradient Descent\n",
    "\n",
    "We will implement the perceptron algorithm in python 3 and numpy. The perceptron will learn using the stochastic gradient descent algorithm (SGD). Gradient Descent minimizes a function by following the gradients of the cost function.\n",
    "\n",
    "### Calculating the Error\n",
    "\n",
    "To calculate the error of a prediction we first need to define the objective function of the perceptron.\n",
    "\n",
    "#### Hinge Loss Function\n",
    "\n",
    "To do this, we need to define the loss function, to calculate the prediction error. We will use hinge loss for our perceptron:\n",
    "\n",
    "$$c(x, y, f(x)) = (1 - y * f(x))_+$$\n",
    "\n",
    "$c$ is the loss function, $x$ the sample, $y$ is the true label, $f(x)$ the predicted label."
   ]
  },
  {
   "cell_type": "markdown",
   "metadata": {
    "id": "XQRK4oiglp2z"
   },
   "source": [
    "This means the following:\n",
    "$$\n",
    "c(x, y, f(x))=\n",
    "\\begin{cases}\n",
    "    0,& \\text{if } y * f(x)\\geq 1\\\\\n",
    "    1-y*f(x),              & \\text{else}\n",
    "\\end{cases}\n",
    "$$\n",
    "\n",
    "So consider, if y and f(x) are signed values $(+1,-1)$:\n",
    "\n",
    "<ul>\n",
    "    <li>the loss is 0, if $y*f(x)$ are positive, respective both values have the same sign.</li>\n",
    "    <li>loss is $1-y*f(x)$ if $y*f(x)$ is negative</li>\n",
    "</ul>\n",
    "\n",
    "#### Objective Function\n",
    "\n",
    "As we defined the loss function, we can now define the objective function for the perceptron:\n",
    "\n",
    "$$l_i(w) = \\big(-y_i \\langle x_i,w \\rangle\\big)_+$$\n",
    "\n",
    "We can write this without the dot product with a sum sign:\n",
    "\n",
    "$$l_i(w) = (-y_i \\sum_{i=1}^n x_iw)_+$$\n",
    "\n",
    "So the sample $x_i$ is misclassified, if $y_i \\langle x_i,w \\rangle \\leq 0$. The general goal is, to find the global minima of this function, respectively find a parameter $w$, where the error is zero.\n",
    "\n",
    "#### Derive the Objective Function\n",
    "\n",
    "To do this we need the gradients of the objective function. The gradient of a function $f$ is the vector of its partial derivatives. The gradient can be calculated by the partially derivative of the objective function.\n",
    "\n",
    "$$ \\nabla l_i(w) = -y_i x_i $$\n",
    "\n",
    "\n",
    "This means, if we have a misclassified sample $x_i$, respectively $ y_i \\langle x_i,w \\rangle \\leq 0 $, update the weight vector\n",
    "$w$ by moving it in the direction of the misclassified sample.\n",
    "\n",
    "\n",
    "$$w = w + y_i x_i$$\n",
    "\n",
    "With this update rule in mind, we can start writing our perceptron algorithm in python."
   ]
  },
  {
   "cell_type": "markdown",
   "metadata": {
    "id": "_eiYih0TmZhr"
   },
   "source": [
    "## Model"
   ]
  },
  {
   "cell_type": "markdown",
   "metadata": {
    "id": "i_91Dsdlmwvr"
   },
   "source": [
    "\n",
    "Finally we can code our SGD algorithm using our update rule. To keep it simple, we will linearly loop over the sample set. For larger data sets it makes sence, to randomly pick a sample during each iteration in the for-loop."
   ]
  },
  {
   "cell_type": "code",
   "execution_count": 45,
   "metadata": {
    "id": "dpCynLlEmxQY"
   },
   "outputs": [],
   "source": [
    "def perceptron_sgd(X, Y):\n",
    "    '''\n",
    "    # TODO: implement the below\n",
    "\n",
    "    Initialize the weight vector for the perceptron with zeros\n",
    "    Set the learning rate\n",
    "    Set the number of epochs\n",
    "    Iterate n times over the whole dataset.\n",
    "    Iterate over each sample in the dataset\n",
    "    Misclassification condition y_i * (x_i . w) <= 0\n",
    "    Update rule for the weights w = w + y_i * x_i including the learning rate\n",
    "\n",
    "    '''\n",
    "    num_epochs = 100\n",
    "    learning_rate = 0.1\n",
    "    w = np.zeros(X.shape[1])\n",
    "    \n",
    "    for epoch in range(num_epochs):\n",
    "        \n",
    "        for i in range(X.shape[0]):\n",
    "            y_predicted = np.sign(np.dot(X[i], w))\n",
    "            \n",
    "            if Y[i] * y_predicted <= 0:\n",
    "                w += learning_rate * Y[i] * X[i]\n",
    "\n",
    "    return w"
   ]
  },
  {
   "cell_type": "markdown",
   "metadata": {
    "id": "1tIY7wrXm5FZ"
   },
   "source": [
    "### Let the Perceptron learn!\n",
    "\n",
    "Next we can execute our code to train a classifier model. To see the learning progress of the perceptron, we add a plotting feature to our algorithm, counting the total error in each epoch."
   ]
  },
  {
   "cell_type": "code",
   "execution_count": 56,
   "metadata": {
    "id": "MJFiM-IBm9xV"
   },
   "outputs": [],
   "source": [
    "def perceptron_sgd_plot(X, Y):\n",
    "    '''\n",
    "    TODO: train perceptron and plot the total loss in each epoch. You may not use the above perceptron_sgd(X, Y) function.\n",
    "\n",
    "    :param X: data samples\n",
    "    :param Y: data labels\n",
    "    :return: weight vector as a numpy array\n",
    "    '''\n",
    "\n",
    "    # Your Implementation here\n",
    "    num_epochs = 1000\n",
    "    learning_rate = 0.05\n",
    "    w = np.zeros(X.shape[1])\n",
    "\n",
    "    errors = []\n",
    "    losses = []\n",
    "\n",
    "    for epoch in range(num_epochs):\n",
    "        epoch_error = 0\n",
    "        epoch_loss = 0\n",
    "\n",
    "        for i in range(X.shape[0]):\n",
    "            y_predicted = np.sign(np.dot(X[i], w))\n",
    "\n",
    "            if Y[i] * y_predicted <= 0:\n",
    "                w += learning_rate * Y[i] * X[i]\n",
    "                epoch_error += 1\n",
    "                epoch_loss += 1 - Y[i] * np.dot(X[i], w)\n",
    "        \n",
    "        errors.append(epoch_error)\n",
    "        losses.append(epoch_loss)\n",
    "\n",
    "    # Plotting errors\n",
    "    plt.plot(errors)\n",
    "    plt.xlabel('Epoch')\n",
    "    plt.ylabel('Num errors')\n",
    "    plt.title('Number of Misclassifications per Epoch')\n",
    "    plt.show()\n",
    "\n",
    "    # Plotting total loss\n",
    "    plt.plot(losses)\n",
    "    plt.xlabel('Epoch')\n",
    "    plt.ylabel('Total Loss')\n",
    "    plt.title('Total Loss per Epoch')\n",
    "    plt.gca().invert_yaxis()\n",
    "    plt.show()\n",
    "\n",
    "    return w"
   ]
  },
  {
   "cell_type": "code",
   "execution_count": 57,
   "metadata": {
    "id": "hG3b6rbvp_T0"
   },
   "outputs": [],
   "source": [
    "X = df[['sex', 'cp', 'fbs', 'restecg', 'exang', 'slope', 'ca', 'thal', 'age', 'trestbps', 'chol', 'thalach', 'oldpeak']].to_numpy()\n",
    "y = df.loc[:, \"target\"].to_numpy()\n",
    "randomized_index = np.random.permutation(X.shape[0])\n",
    "X = X[randomized_index]\n",
    "y = y[randomized_index]\n",
    "y = np.array([-1 if label == 0 else label for label in y])"
   ]
  },
  {
   "cell_type": "code",
   "execution_count": 58,
   "metadata": {
    "id": "z0kQs1yip0Qm"
   },
   "outputs": [],
   "source": [
    "# TODO: Add a bias term -1 into the dataset. This is needed for the SGD to work.\n",
    "\n",
    "# add a -1 bias term to the end of each row\n",
    "bias_column = np.full((X.shape[0], 1), -1)\n",
    "\n",
    "# Concatenate the original X with the bias column\n",
    "X = np.hstack((X, bias_column))"
   ]
  },
  {
   "cell_type": "code",
   "execution_count": 59,
   "metadata": {
    "id": "yz313F2ep3St"
   },
   "outputs": [],
   "source": [
    "# TODO: Split the data to train and test with a 0.2 ratio\n",
    "test_size = 0.2\n",
    "indices = np.random.permutation(len(X))\n",
    "num_test_samples = int(X.shape[0] * test_size)\n",
    "\n",
    "train_indices = indices[num_test_samples:]\n",
    "test_indices = indices[:num_test_samples]\n",
    "\n",
    "X_train, X_val = X[train_indices], X[test_indices]\n",
    "y_train, y_val = y[train_indices], y[test_indices]"
   ]
  },
  {
   "cell_type": "code",
   "execution_count": 60,
   "metadata": {
    "id": "vza_Q_Gim_cf"
   },
   "outputs": [
    {
     "data": {
      "image/png": "[encoded data removed]",
      "text/plain": [
       "<Figure size 640x480 with 1 Axes>"
      ]
     },
     "metadata": {},
     "output_type": "display_data"
    },
    {
     "data": {
      "image/png": "[encoded data removed]",
      "text/plain": [
       "<Figure size 640x480 with 1 Axes>"
      ]
     },
     "metadata": {},
     "output_type": "display_data"
    }
   ],
   "source": [
    "w = perceptron_sgd_plot(X_train,y_train)"
   ]
  },
  {
   "cell_type": "markdown",
   "metadata": {
    "id": "GoPThTyLnd0N"
   },
   "source": [
    "### Accuracy"
   ]
  },
  {
   "cell_type": "markdown",
   "metadata": {
    "id": "ARKTa6f2n4v0"
   },
   "source": [
    "\n",
    "Implement the `accuracy_score` function by considering the predictions and true labels."
   ]
  },
  {
   "cell_type": "code",
   "execution_count": 17,
   "metadata": {
    "id": "lkHOtSEYnePG"
   },
   "outputs": [],
   "source": [
    "def accuracy_score(y_true, y_pred):\n",
    "    #TODO: Your implementation\n",
    "    correct_predictions = np.sum(y_true == y_pred)\n",
    "\n",
    "    total_predictions = len(y_true)\n",
    "    \n",
    "    accuracy = correct_predictions / total_predictions\n",
    "    \n",
    "    return accuracy"
   ]
  },
  {
   "cell_type": "markdown",
   "metadata": {
    "id": "9sE-fMyLn9b9"
   },
   "source": [
    "Get the accuracy of your model using the function you implemented."
   ]
  },
  {
   "cell_type": "code",
   "execution_count": 61,
   "metadata": {
    "id": "DEvjAMiUn9t_"
   },
   "outputs": [
    {
     "name": "stdout",
     "output_type": "stream",
     "text": [
      "0.8097560975609757\n"
     ]
    }
   ],
   "source": [
    "# TODO\n",
    "\n",
    "predictions = np.dot(X_val, w)\n",
    "predictions[predictions <= 0] = -1\n",
    "predictions[predictions > 0] = 1\n",
    "\n",
    "print(accuracy_score(y_val, predictions))"
   ]
  },
  {
   "cell_type": "markdown",
   "metadata": {
    "id": "54V2QMyQoAQr"
   },
   "source": [
    "### Confusion Matrix"
   ]
  },
  {
   "cell_type": "markdown",
   "metadata": {
    "id": "f5cheWvWnjVR"
   },
   "source": [
    "Implement the `confusion_matrix` function to generate the confusion matrix by receiving the predicted labels, the real labels and the labels themselves."
   ]
  },
  {
   "cell_type": "code",
   "execution_count": 82,
   "metadata": {
    "id": "Kv6PgYmgoGtJ"
   },
   "outputs": [],
   "source": [
    "def confusion_matrix(actual, predicted, labels):\n",
    "    # TODO: Initialize the confusion matrix\n",
    "    matrix = np.zeros([2,2])\n",
    "    # TODO: Populate the confusion matrix\n",
    "\n",
    "    for i in range(len(actual)) :\n",
    "        if actual[i] == 1 and predicted[i] == 1 :\n",
    "            matrix[0][0] += 1\n",
    "        if actual[i] == -1 and predicted[i] == +1 :\n",
    "            matrix[0][1] += 1\n",
    "        if actual[i] == 1 and predicted[i] == -1 :\n",
    "            matrix[1][0] += 1\n",
    "        if actual[i] == -1 and predicted[i] == -1 :\n",
    "            matrix[1][1] += 1\n",
    "    \n",
    "    return matrix"
   ]
  },
  {
   "cell_type": "markdown",
   "metadata": {
    "id": "JhtEA4xRoKMx"
   },
   "source": [
    "Implement the following function to plot the confusion matrix obtained from the previous part."
   ]
  },
  {
   "cell_type": "code",
   "execution_count": 87,
   "metadata": {
    "id": "1zBnY2ALoNY5"
   },
   "outputs": [],
   "source": [
    "def plot_confusion_matrix(matrix, labels):\n",
    "    #TODO: plot the confusion matrix\n",
    "    plt.figure(figsize=(8, 6))\n",
    "    sns.set(font_scale=1.4)\n",
    "    sns.heatmap(matrix, annot=True, fmt='g', cmap='Blues')\n",
    "    plt.xlabel('Actual')\n",
    "    plt.ylabel('Predicted')\n",
    "    plt.title('Confusion Matrix')\n",
    "    plt.show()\n"
   ]
  },
  {
   "cell_type": "markdown",
   "metadata": {
    "id": "CQhj0HS8odjN"
   },
   "source": [
    "Now plot the confusion matrix for your model:"
   ]
  },
  {
   "cell_type": "code",
   "execution_count": 89,
   "metadata": {
    "id": "KNswewkkodPS"
   },
   "outputs": [
    {
     "data": {
      "image/png": "[encoded data removed]",
      "text/plain": [
       "<Figure size 800x600 with 2 Axes>"
      ]
     },
     "metadata": {},
     "output_type": "display_data"
    }
   ],
   "source": [
    "# TODO\n",
    "cm = confusion_matrix(y_val, predictions, _)\n",
    "plot_confusion_matrix(cm, _)"
   ]
  },
  {
   "cell_type": "markdown",
   "metadata": {
    "id": "0u9hzezSo48b"
   },
   "source": [
    "### F1 Score"
   ]
  },
  {
   "cell_type": "markdown",
   "metadata": {
    "id": "LV2lhF-xo7tG"
   },
   "source": [
    "Implement the following functions to calculate precision, recall and [F1 score](https://en.wikipedia.org/wiki/F-score) using confusion matrix. Then calculate all three metrics for your model."
   ]
  },
  {
   "cell_type": "code",
   "execution_count": 90,
   "metadata": {
    "id": "5H5x1seOo7-m"
   },
   "outputs": [
    {
     "name": "stdout",
     "output_type": "stream",
     "text": [
      "0.9514563106796117\n"
     ]
    }
   ],
   "source": [
    "def recall_score(cm):\n",
    "  #TODO: return the recall score\n",
    "    return cm[0][0] / (cm[0][0] + cm[1][0])\n",
    "print(recall_score(cm))"
   ]
  },
  {
   "cell_type": "code",
   "execution_count": 91,
   "metadata": {
    "id": "1-jnEGfXo-CO"
   },
   "outputs": [
    {
     "name": "stdout",
     "output_type": "stream",
     "text": [
      "0.7424242424242424\n"
     ]
    }
   ],
   "source": [
    "def precision_score(cm):\n",
    "  #TODO: return the precision score\n",
    "    return cm[0][0] / (cm[0][0] + cm[0][1])\n",
    "print(precision_score(cm))"
   ]
  },
  {
   "cell_type": "code",
   "execution_count": 93,
   "metadata": {
    "id": "elp_Y21uo_11"
   },
   "outputs": [
    {
     "name": "stdout",
     "output_type": "stream",
     "text": [
      "0.8340425531914895\n"
     ]
    }
   ],
   "source": [
    "def f1_score(cm):\n",
    "  #TODO: return the f1 score\n",
    "    return 2 * ((precision_score(cm) * recall_score(cm)) / ((precision_score(cm) + recall_score(cm))))\n",
    "print(f1_score(cm))"
   ]
  },
  {
   "cell_type": "markdown",
   "metadata": {
    "id": "GSMb1HLNL5BB"
   },
   "source": [
    "# Naive Bayes"
   ]
  },
  {
   "cell_type": "markdown",
   "metadata": {
    "id": "BRS6sygsLV-G"
   },
   "source": [
    "## Model"
   ]
  },
  {
   "cell_type": "markdown",
   "metadata": {
    "id": "xdyNTg7Is-Z1"
   },
   "source": [
    "To predict the target column we want to use a Naive Bayes classifier. In this section, you must implement the functions of the `MixedDataNB` class. Assume continuous features follow a normal distribution. **Hint**: You need to train a Naive Bayes model that implements the likelihood function for categorical and continuous values in two different ways. Search for Gaussian NB and Multinomial NB. **Note**: Please feel free to modify the following class and its functions."
   ]
  },
  {
   "cell_type": "code",
   "execution_count": 124,
   "metadata": {
    "id": "7EnbOik9KW9f"
   },
   "outputs": [],
   "source": [
    "class MixedDataNB:\n",
    "\n",
    "    def __init__(self):\n",
    "        # Your Implementation here\n",
    "        self.rad_du_pi = np.sqrt(2 * np.pi)\n",
    "        self.discrete_index = [1, 2, 5, 6, 8, 10, 11, 12]\n",
    "        self.classes = []\n",
    "        self.class_prob = {}\n",
    "        self.discrete_prob = {}\n",
    "        self.continuous_variance = {}\n",
    "        self.continuous_mean = {}\n",
    "        \n",
    "        \n",
    "    def gaussian(self, mean, variance, x):\n",
    "        if variance == 0:\n",
    "            return 1\n",
    "        return (1/(self.rad_du_pi * variance)) * (np.exp((-1/2) * (((x - mean) ** 2) / (variance ** 2))))\n",
    "    \n",
    "\n",
    "    def fit(self, X, y):\n",
    "        '''\n",
    "        TODO: Train moodel using train data\n",
    "\n",
    "        :param X: data samples as a numpy array\n",
    "        :param Y: data labels as a numpy array\n",
    "        '''\n",
    "        # Your Implementation here\n",
    "        self.classes = np.unique(y)\n",
    "        for each_class in self.classes:\n",
    "\n",
    "            X_class = X[y == each_class]\n",
    "            self.class_prob[each_class] = X_class.shape[0] / len(X)\n",
    "            self.discrete_prob[each_class] = {}\n",
    "            self.continuous_variance[each_class] = {}\n",
    "            self.continuous_mean[each_class] = {}\n",
    "\n",
    "            for i in range(14):\n",
    "                if i in self.discrete_index:\n",
    "                    unique = []\n",
    "                    counts = []\n",
    "                    for val in X_class[:, i]:\n",
    "                        if val not in unique:\n",
    "                            unique.append(val)\n",
    "                            counts.append(1)\n",
    "                        else:\n",
    "                            counts[unique.index(val)] += 1\n",
    "                    self.discrete_prob[each_class][i] = {unique[j]: counts[j] / X_class.shape[0] for j in range(len(unique))}\n",
    "                else:\n",
    "                    self.continuous_mean[each_class][i] = np.mean(X_class[:,i])\n",
    "                    self.continuous_variance[each_class][i] = np.var(X_class[:,i])\n",
    "    \n",
    "\n",
    "    def predict(self, X):\n",
    "        '''\n",
    "        TODO: Predict test data labels\n",
    "\n",
    "        :param X: data samples as a numpy array\n",
    "        :return: labels vector as a numpy array\n",
    "        '''\n",
    "        # Your Implementation here\n",
    "        labels = []\n",
    "        for data in X:\n",
    "            best_class = None\n",
    "            max_value = float(\"-inf\")\n",
    "\n",
    "            for each_class in self.classes:\n",
    "                class_value = self.class_prob[each_class]\n",
    "                for i, value in enumerate(data):\n",
    "                    if i in self.discrete_index:\n",
    "                        class_value *= self.discrete_prob[each_class].get(i, {}).get(value, 0)\n",
    "                    else:\n",
    "                        class_value *= self.gaussian(self.continuous_mean[each_class][i], self.continuous_variance[each_class][i], value)\n",
    "\n",
    "                if class_value > max_value:\n",
    "                    max_value = class_value\n",
    "                    best_class = each_class\n",
    "\n",
    "            labels.append(best_class)\n",
    "    \n",
    "        return labels"
   ]
  },
  {
   "cell_type": "markdown",
   "metadata": {
    "id": "RCcNBC_AOddW"
   },
   "source": [
    "## Train and Validation"
   ]
  },
  {
   "cell_type": "markdown",
   "metadata": {
    "id": "6KjeHMceOJTE"
   },
   "source": [
    "\n",
    "### Data splitting"
   ]
  },
  {
   "cell_type": "markdown",
   "metadata": {
    "id": "0ljWeBvFv65G"
   },
   "source": [
    "Split the training and validation data. Separate 20% of the data for validation."
   ]
  },
  {
   "cell_type": "code",
   "execution_count": 146,
   "metadata": {
    "id": "do-NG_s2bvql"
   },
   "outputs": [],
   "source": [
    "# TODO\n",
    "test_size = 0.2\n",
    "indices = np.random.permutation(len(X))\n",
    "num_test_samples = int(X.shape[0] * test_size)\n",
    "\n",
    "train_indices = indices[num_test_samples:]\n",
    "test_indices = indices[:num_test_samples]\n",
    "\n",
    "X_train, X_val = X[train_indices], X[test_indices]\n",
    "y_train, y_val = y[train_indices], y[test_indices]"
   ]
  },
  {
   "cell_type": "markdown",
   "metadata": {
    "id": "7HbVGE0BwFoZ"
   },
   "source": [
    "### Model training"
   ]
  },
  {
   "cell_type": "code",
   "execution_count": 147,
   "metadata": {
    "id": "3uHjoYgQb5ed"
   },
   "outputs": [],
   "source": [
    "# TODO\n",
    "model = MixedDataNB()\n",
    "model.fit(X_train,y_train)"
   ]
  },
  {
   "cell_type": "markdown",
   "metadata": {
    "id": "vfHEirlXwyeb"
   },
   "source": [
    "### Make predictions"
   ]
  },
  {
   "cell_type": "code",
   "execution_count": 148,
   "metadata": {
    "id": "PuN_GWEhwwUN"
   },
   "outputs": [],
   "source": [
    "# TODO\n",
    "predictions = model.predict(X_val)"
   ]
  },
  {
   "cell_type": "markdown",
   "metadata": {
    "id": "AiVuMqFNw2rS"
   },
   "source": [
    "### Accuracy"
   ]
  },
  {
   "cell_type": "markdown",
   "metadata": {
    "id": "zOsIA_F9xf3u"
   },
   "source": [
    "Get the accuracy of your model using the function you implemented."
   ]
  },
  {
   "cell_type": "code",
   "execution_count": 149,
   "metadata": {
    "id": "Q5auaGaCiZ2I"
   },
   "outputs": [
    {
     "name": "stdout",
     "output_type": "stream",
     "text": [
      "0.926829268292683\n"
     ]
    }
   ],
   "source": [
    "print(accuracy_score(y_val, predictions))"
   ]
  },
  {
   "cell_type": "markdown",
   "metadata": {
    "id": "0BmtJ-iqQhN_"
   },
   "source": [
    "### Confusion Matrix"
   ]
  },
  {
   "cell_type": "markdown",
   "metadata": {
    "id": "lvj1QkeP3XPk"
   },
   "source": [
    "Now, using the functions you wrote, plot the confusion matrix for the model you trained."
   ]
  },
  {
   "cell_type": "code",
   "execution_count": 129,
   "metadata": {
    "id": "-nN1RNVopf-_"
   },
   "outputs": [
    {
     "data": {
      "image/png": "[encoded data removed]",
      "text/plain": [
       "<Figure size 800x600 with 2 Axes>"
      ]
     },
     "metadata": {},
     "output_type": "display_data"
    }
   ],
   "source": [
    "# TODO\n",
    "cm = confusion_matrix(predictions, y_val, _)\n",
    "plot_confusion_matrix(cm, _)"
   ]
  },
  {
   "cell_type": "markdown",
   "metadata": {
    "id": "3Snbk3FeQyph"
   },
   "source": [
    "### F1 Score"
   ]
  },
  {
   "cell_type": "markdown",
   "metadata": {
    "id": "EGMYWaiT3rqc"
   },
   "source": [
    "Using your implemented functions in the previous section, calculate precision, recall and F1 score using confusion matrix. Then calculate all three metrics for your model."
   ]
  },
  {
   "cell_type": "code",
   "execution_count": 130,
   "metadata": {
    "id": "ElFj7NblojAf"
   },
   "outputs": [
    {
     "name": "stdout",
     "output_type": "stream",
     "text": [
      "0.9514563106796117\n"
     ]
    }
   ],
   "source": [
    "print(recall_score(cm))"
   ]
  },
  {
   "cell_type": "code",
   "execution_count": 131,
   "metadata": {
    "id": "MySaWgxwojsw"
   },
   "outputs": [
    {
     "name": "stdout",
     "output_type": "stream",
     "text": [
      "0.8672566371681416\n"
     ]
    }
   ],
   "source": [
    "print(precision_score(cm))"
   ]
  },
  {
   "cell_type": "code",
   "execution_count": 132,
   "metadata": {
    "id": "p_Sx4kv8ojz2"
   },
   "outputs": [
    {
     "name": "stdout",
     "output_type": "stream",
     "text": [
      "0.9074074074074074\n"
     ]
    }
   ],
   "source": [
    "print(f1_score(cm))"
   ]
  },
  {
   "cell_type": "markdown",
   "metadata": {
    "id": "dEbb0kriPDu2"
   },
   "source": [
    "### Heatmap"
   ]
  },
  {
   "cell_type": "markdown",
   "metadata": {
    "id": "46_IPabaxvVL"
   },
   "source": [
    "By ploting the heatmap obtained for chol and oldpeak features from your model, compare the usefulness of these two features.\n"
   ]
  },
  {
   "cell_type": "code",
   "execution_count": 134,
   "metadata": {
    "id": "F9x7emkB6Uzn"
   },
   "outputs": [
    {
     "data": {
      "image/png": "[encoded data removed]",
      "text/plain": [
       "<Figure size 640x480 with 2 Axes>"
      ]
     },
     "metadata": {},
     "output_type": "display_data"
    },
    {
     "data": {
      "image/png": "[encoded data removed]",
      "text/plain": [
       "<Figure size 640x480 with 2 Axes>"
      ]
     },
     "metadata": {},
     "output_type": "display_data"
    }
   ],
   "source": [
    "# TODO\n",
    "features = [['chol', 'target'], ['oldpeak', 'target']]\n",
    "cmaps = ['coolwarm', 'viridis']\n",
    "\n",
    "for feature, cmap in zip(features, cmaps):\n",
    "    sns.heatmap(df[feature].corr(), annot=True, cmap=cmap)\n",
    "    plt.show()"
   ]
  },
  {
   "cell_type": "markdown",
   "metadata": {
    "id": "N5E-qQQv2TgC"
   },
   "source": [
    "Train your model once by removing the chol feature and once by removing the oldpeak feature and calculate its accuracy. Compare the obtained results with the previous part."
   ]
  },
  {
   "cell_type": "markdown",
   "metadata": {
    "id": "1lKo-l15nI5E"
   },
   "source": [
    "Remove Chol and test model"
   ]
  },
  {
   "cell_type": "code",
   "execution_count": 150,
   "metadata": {
    "id": "Gb21jrDZjy2m"
   },
   "outputs": [
    {
     "name": "stdout",
     "output_type": "stream",
     "text": [
      "0.9170731707317074\n"
     ]
    }
   ],
   "source": [
    "# TODO\n",
    "\n",
    "indices = np.random.permutation(len(X))\n",
    "num_test_samples = int(X.shape[0] * test_size)\n",
    "\n",
    "train_indices = indices[num_test_samples:]\n",
    "test_indices = indices[:num_test_samples]\n",
    "\n",
    "X_train, X_val = X[train_indices], X[test_indices]\n",
    "y_train, y_val = y[train_indices], y[test_indices]\n",
    "\n",
    "X_no_chol_train = np.copy(X_train)\n",
    "X_no_chol_val = np.copy(X_val)\n",
    "X_no_chol_train[:, 4] = 0\n",
    "X_no_chol_val[:, 4] = 0\n",
    "\n",
    "no_chol_model = MixedDataNB()\n",
    "no_chol_model.fit(X_no_chol_train, y_train)\n",
    "accuracy = accuracy_score(y_val, no_chol_model.predict(X_no_chol_val))\n",
    "print(accuracy)"
   ]
  },
  {
   "cell_type": "markdown",
   "metadata": {
    "id": "1tb_XKwsnLYq"
   },
   "source": [
    "Remove oldpeak and test model"
   ]
  },
  {
   "cell_type": "code",
   "execution_count": 156,
   "metadata": {
    "id": "9IdEjL1GmDA3"
   },
   "outputs": [
    {
     "name": "stdout",
     "output_type": "stream",
     "text": [
      "0.8975609756097561\n"
     ]
    }
   ],
   "source": [
    "# TODO\n",
    "indices = np.random.permutation(len(X))\n",
    "num_test_samples = int(X.shape[0] * test_size)\n",
    "\n",
    "train_indices = indices[num_test_samples:]\n",
    "test_indices = indices[:num_test_samples]\n",
    "\n",
    "X_train, X_val = X[train_indices], X[test_indices]\n",
    "y_train, y_val = y[train_indices], y[test_indices]\n",
    "\n",
    "X_no_oldpeak_train = np.copy(X_train)\n",
    "X_no_oldpeak_val = np.copy(X_val)\n",
    "X_no_oldpeak_train[:, 9] = 0\n",
    "X_no_oldpeak_val[:, 9] = 0\n",
    "\n",
    "no_oldpeak_model = MixedDataNB()\n",
    "no_oldpeak_model.fit(X_no_oldpeak_train, y_train)\n",
    "accuracy = accuracy_score(y_val, no_oldpeak_model.predict(X_no_oldpeak_val))\n",
    "print(accuracy)"
   ]
  },
  {
   "cell_type": "markdown",
   "metadata": {
    "id": "c9kuak-Wchp8"
   },
   "source": [
    "Comparison"
   ]
  },
  {
   "cell_type": "markdown",
   "metadata": {
    "id": "tuVe6m8zcjb5"
   },
   "source": [
    "**Answer:**\n",
    "Removing oldpeak feature reduced the accuracy of our model, while removing chol feature didn't have that much effect on the accuracy of our model"
   ]
  },
  {
   "cell_type": "markdown",
   "metadata": {
    "id": "RYDwVLDqkoXc"
   },
   "source": [
    "# Comparison"
   ]
  },
  {
   "cell_type": "markdown",
   "metadata": {
    "id": "PFGNM7y2krbl"
   },
   "source": [
    "Which model did better: the perceptron or the Naive Bayes model? What factors do you think influenced the difference in their performance?"
   ]
  },
  {
   "cell_type": "markdown",
   "metadata": {
    "id": "Gof1rS14kuOG"
   },
   "source": [
    "### Answer: \n",
    "The Naive Bayes model actually did better in terms of accuracy, this could be due to the fact that naive bayes model acts better on simple datasets while perceptron model is better for complex datasets with high dimensionality. Moreover, perceptron is not good for generalization and may overfit to the training data"
   ]
  },
  {
   "cell_type": "markdown",
   "metadata": {
    "id": "q0Ogh-b03oUx"
   },
   "source": [
    "# Imbalanced Data"
   ]
  },
  {
   "cell_type": "markdown",
   "metadata": {
    "id": "mAgBI2ug4pYo"
   },
   "source": [
    "By using the model you designed and the functions you implemented, train your model on the three imbalanced data sets provided to you and calculate accuracy, recall, precision, and F1 score metrics for it each time. The confusion matrix should also be plotted each time. Finally, analyze based on the obtained results which accuracy and F1 score metrics are most appropriate for evaluating the model in imbalanced datasets. **Note:** In order to prevent code duplication, you are free to define functions and only use them with different datasets."
   ]
  },
  {
   "cell_type": "markdown",
   "metadata": {
    "id": "Wp4n9e5HaOVx"
   },
   "source": [
    "## First dataset"
   ]
  },
  {
   "cell_type": "markdown",
   "metadata": {
    "id": "J6PrUxRcS-Gx"
   },
   "source": [
    "### Load data"
   ]
  },
  {
   "cell_type": "code",
   "execution_count": 166,
   "metadata": {
    "id": "Eiupha6eTf8c"
   },
   "outputs": [],
   "source": [
    "df = pd.read_csv(\"Imbalanced_Datasets/1.csv\")\n",
    "X = df[['sex', 'cp', 'fbs', 'restecg', 'exang', 'slope', 'ca', 'thal', 'age', 'trestbps', 'chol', 'thalach', 'oldpeak']].to_numpy()\n",
    "y = df.loc[:, \"target\"].to_numpy()\n",
    "y = np.array([-1 if label == 0 else label for label in y])\n",
    "bias_column = np.full((X.shape[0], 1), -1)\n",
    "X = np.hstack((X, bias_column))"
   ]
  },
  {
   "cell_type": "markdown",
   "metadata": {
    "id": "uXddb_7dUG5u"
   },
   "source": [
    "### Find the distribution\n"
   ]
  },
  {
   "cell_type": "markdown",
   "metadata": {
    "id": "oFfEYF3LUm7e"
   },
   "source": [
    "Find the number of samples from each target label."
   ]
  },
  {
   "cell_type": "code",
   "execution_count": 167,
   "metadata": {
    "id": "UWKeH1VmUpB4"
   },
   "outputs": [
    {
     "name": "stdout",
     "output_type": "stream",
     "text": [
      "Number of samples from each target label:\n",
      "Target 0: 499 samples\n",
      "Target 1: 226 samples\n"
     ]
    }
   ],
   "source": [
    "# TODO\n",
    "num_samples_per_label = df['target'].value_counts().to_dict()\n",
    "\n",
    "print(\"Number of samples from each target label:\")\n",
    "for label, count in num_samples_per_label.items():\n",
    "    print(f\"Target {label}: {count} samples\")"
   ]
  },
  {
   "cell_type": "markdown",
   "metadata": {
    "id": "mcHFkGt6UCzM"
   },
   "source": [
    "### Split data"
   ]
  },
  {
   "cell_type": "code",
   "execution_count": 168,
   "metadata": {
    "id": "DRodEXYEUE5K"
   },
   "outputs": [],
   "source": [
    "# TODO\n",
    "test_size = 0.2\n",
    "indices = np.random.permutation(len(X))\n",
    "num_test_samples = int(X.shape[0] * test_size)\n",
    "\n",
    "train_indices = indices[num_test_samples:]\n",
    "test_indices = indices[:num_test_samples]\n",
    "\n",
    "X_train, X_val = X[train_indices], X[test_indices]\n",
    "y_train, y_val = y[train_indices], y[test_indices]"
   ]
  },
  {
   "cell_type": "markdown",
   "metadata": {
    "id": "OVPEziogTMqP"
   },
   "source": [
    "### Train model and make predictions"
   ]
  },
  {
   "cell_type": "code",
   "execution_count": 169,
   "metadata": {
    "id": "UGX1KttKTgPz"
   },
   "outputs": [
    {
     "name": "stdout",
     "output_type": "stream",
     "text": [
      "0.9103448275862069\n"
     ]
    }
   ],
   "source": [
    "# TODO\n",
    "model = MixedDataNB()\n",
    "model.fit(X_train,y_train)\n",
    "predictions = model.predict(X_val)\n",
    "print(accuracy_score(y_val, predictions))"
   ]
  },
  {
   "cell_type": "markdown",
   "metadata": {
    "id": "5QS80Z9fTSJH"
   },
   "source": [
    "### Plot confusion matrix"
   ]
  },
  {
   "cell_type": "code",
   "execution_count": 170,
   "metadata": {
    "id": "72m9_9HvTgn7"
   },
   "outputs": [
    {
     "data": {
      "image/png": "[encoded data removed]",
      "text/plain": [
       "<Figure size 800x600 with 2 Axes>"
      ]
     },
     "metadata": {},
     "output_type": "display_data"
    }
   ],
   "source": [
    "# TODO\n",
    "cm = confusion_matrix(predictions, y_val, _)\n",
    "plot_confusion_matrix(cm, _)"
   ]
  },
  {
   "cell_type": "markdown",
   "metadata": {
    "id": "MBQxSo1oTZkB"
   },
   "source": [
    "### Calculate metrics"
   ]
  },
  {
   "cell_type": "code",
   "execution_count": 171,
   "metadata": {
    "id": "U6vQI8fItr3y"
   },
   "outputs": [
    {
     "name": "stdout",
     "output_type": "stream",
     "text": [
      "Recall: 0.9574468085106383\n",
      "Precision: 0.8035714285714286\n",
      "F1 Score: 0.8737864077669905\n"
     ]
    }
   ],
   "source": [
    "# TODO\n",
    "print(f'Recall: {recall_score(cm)}')\n",
    "print(f'Precision: {precision_score(cm)}')\n",
    "print(f'F1 Score: {f1_score(cm)}')"
   ]
  },
  {
   "cell_type": "markdown",
   "metadata": {
    "id": "CM968e-qah0g"
   },
   "source": [
    "## Second dataset"
   ]
  },
  {
   "cell_type": "markdown",
   "metadata": {
    "id": "i5EY_UPRah0n"
   },
   "source": [
    "### Load data"
   ]
  },
  {
   "cell_type": "code",
   "execution_count": 173,
   "metadata": {
    "id": "WCJt4rb8ah0n"
   },
   "outputs": [],
   "source": [
    "df = pd.read_csv(\"Imbalanced_Datasets/2.csv\")\n",
    "X = df[['sex', 'cp', 'fbs', 'restecg', 'exang', 'slope', 'ca', 'thal', 'age', 'trestbps', 'chol', 'thalach', 'oldpeak']].to_numpy()\n",
    "y = df.loc[:, \"target\"].to_numpy()\n",
    "y = np.array([-1 if label == 0 else label for label in y])\n",
    "bias_column = np.full((X.shape[0], 1), -1)\n",
    "X = np.hstack((X, bias_column))"
   ]
  },
  {
   "cell_type": "markdown",
   "metadata": {
    "id": "WT-pidZNah0n"
   },
   "source": [
    "### Find the distribution\n"
   ]
  },
  {
   "cell_type": "markdown",
   "metadata": {
    "id": "TvMMX9Paah0n"
   },
   "source": [
    "Find the number of samples from each target label."
   ]
  },
  {
   "cell_type": "code",
   "execution_count": 174,
   "metadata": {
    "id": "B_zQTT3nah0n"
   },
   "outputs": [
    {
     "name": "stdout",
     "output_type": "stream",
     "text": [
      "Number of samples from each target label:\n",
      "Target 0: 499 samples\n",
      "Target 1: 126 samples\n"
     ]
    }
   ],
   "source": [
    "# TODO\n",
    "num_samples_per_label = df['target'].value_counts().to_dict()\n",
    "\n",
    "print(\"Number of samples from each target label:\")\n",
    "for label, count in num_samples_per_label.items():\n",
    "    print(f\"Target {label}: {count} samples\")"
   ]
  },
  {
   "cell_type": "markdown",
   "metadata": {
    "id": "UtAGBCz5ah0n"
   },
   "source": [
    "### Split data"
   ]
  },
  {
   "cell_type": "code",
   "execution_count": 175,
   "metadata": {
    "id": "oWSWhuqkah0n"
   },
   "outputs": [],
   "source": [
    "# TODO\n",
    "test_size = 0.2\n",
    "indices = np.random.permutation(len(X))\n",
    "num_test_samples = int(X.shape[0] * test_size)\n",
    "\n",
    "train_indices = indices[num_test_samples:]\n",
    "test_indices = indices[:num_test_samples]\n",
    "\n",
    "X_train, X_val = X[train_indices], X[test_indices]\n",
    "y_train, y_val = y[train_indices], y[test_indices]"
   ]
  },
  {
   "cell_type": "markdown",
   "metadata": {
    "id": "UgU9C0lcah0n"
   },
   "source": [
    "### Train model and make predictions"
   ]
  },
  {
   "cell_type": "code",
   "execution_count": 176,
   "metadata": {
    "id": "R_0U_L9Rah0n"
   },
   "outputs": [
    {
     "name": "stdout",
     "output_type": "stream",
     "text": [
      "0.904\n"
     ]
    }
   ],
   "source": [
    "# TODO\n",
    "model = MixedDataNB()\n",
    "model.fit(X_train,y_train)\n",
    "predictions = model.predict(X_val)\n",
    "print(accuracy_score(y_val, predictions))"
   ]
  },
  {
   "cell_type": "markdown",
   "metadata": {
    "id": "_L6TQSzHah0n"
   },
   "source": [
    "### Plot confusion matrix"
   ]
  },
  {
   "cell_type": "code",
   "execution_count": 177,
   "metadata": {
    "id": "MYBVkHo4ah0n"
   },
   "outputs": [
    {
     "data": {
      "image/png": "[encoded data removed]",
      "text/plain": [
       "<Figure size 800x600 with 2 Axes>"
      ]
     },
     "metadata": {},
     "output_type": "display_data"
    }
   ],
   "source": [
    "# TODO\n",
    "cm = confusion_matrix(predictions, y_val, _)\n",
    "plot_confusion_matrix(cm, _)"
   ]
  },
  {
   "cell_type": "markdown",
   "metadata": {
    "id": "c0XAiLBUah0o"
   },
   "source": [
    "### Calculate metrics"
   ]
  },
  {
   "cell_type": "code",
   "execution_count": 178,
   "metadata": {
    "id": "riRcbrlqah0o"
   },
   "outputs": [
    {
     "name": "stdout",
     "output_type": "stream",
     "text": [
      "Recall: 0.8947368421052632\n",
      "Precision: 0.6296296296296297\n",
      "F1 Score: 0.7391304347826088\n"
     ]
    }
   ],
   "source": [
    "# TODO\n",
    "print(f'Recall: {recall_score(cm)}')\n",
    "print(f'Precision: {precision_score(cm)}')\n",
    "print(f'F1 Score: {f1_score(cm)}')"
   ]
  },
  {
   "cell_type": "markdown",
   "metadata": {
    "id": "ZNu2VoZsak76"
   },
   "source": [
    "## Third dataset"
   ]
  },
  {
   "cell_type": "markdown",
   "metadata": {
    "id": "nXzFkXaLak8B"
   },
   "source": [
    "### Load data"
   ]
  },
  {
   "cell_type": "code",
   "execution_count": 179,
   "metadata": {
    "id": "HfD4l1G6ak8B"
   },
   "outputs": [],
   "source": [
    "df = pd.read_csv(\"Imbalanced_Datasets/3.csv\")\n",
    "X = df[['sex', 'cp', 'fbs', 'restecg', 'exang', 'slope', 'ca', 'thal', 'age', 'trestbps', 'chol', 'thalach', 'oldpeak']].to_numpy()\n",
    "y = df.loc[:, \"target\"].to_numpy()\n",
    "y = np.array([-1 if label == 0 else label for label in y])\n",
    "bias_column = np.full((X.shape[0], 1), -1)\n",
    "X = np.hstack((X, bias_column))"
   ]
  },
  {
   "cell_type": "markdown",
   "metadata": {
    "id": "tRg7HDJ-ak8B"
   },
   "source": [
    "### Find the distribution\n"
   ]
  },
  {
   "cell_type": "markdown",
   "metadata": {
    "id": "Lji-2CRSak8B"
   },
   "source": [
    "Find the number of samples from each target label."
   ]
  },
  {
   "cell_type": "code",
   "execution_count": 180,
   "metadata": {
    "id": "impG1HQFak8B"
   },
   "outputs": [
    {
     "name": "stdout",
     "output_type": "stream",
     "text": [
      "Number of samples from each target label:\n",
      "Target 0: 499 samples\n",
      "Target 1: 26 samples\n"
     ]
    }
   ],
   "source": [
    "# TODO\n",
    "num_samples_per_label = df['target'].value_counts().to_dict()\n",
    "\n",
    "print(\"Number of samples from each target label:\")\n",
    "for label, count in num_samples_per_label.items():\n",
    "    print(f\"Target {label}: {count} samples\")"
   ]
  },
  {
   "cell_type": "markdown",
   "metadata": {
    "id": "3pe45UaBak8C"
   },
   "source": [
    "### Split data"
   ]
  },
  {
   "cell_type": "code",
   "execution_count": 181,
   "metadata": {
    "id": "ze3YZgfmak8C"
   },
   "outputs": [],
   "source": [
    "# TODO\n",
    "test_size = 0.2\n",
    "indices = np.random.permutation(len(X))\n",
    "num_test_samples = int(X.shape[0] * test_size)\n",
    "\n",
    "train_indices = indices[num_test_samples:]\n",
    "test_indices = indices[:num_test_samples]\n",
    "\n",
    "X_train, X_val = X[train_indices], X[test_indices]\n",
    "y_train, y_val = y[train_indices], y[test_indices]"
   ]
  },
  {
   "cell_type": "markdown",
   "metadata": {
    "id": "N64rNbxmak8C"
   },
   "source": [
    "### Train model and make predictions"
   ]
  },
  {
   "cell_type": "code",
   "execution_count": 183,
   "metadata": {
    "id": "gvA0wDxYak8C"
   },
   "outputs": [
    {
     "name": "stdout",
     "output_type": "stream",
     "text": [
      "0.9619047619047619\n"
     ]
    }
   ],
   "source": [
    "# TODO\n",
    "model = MixedDataNB()\n",
    "model.fit(X_train,y_train)\n",
    "predictions = model.predict(X_val)\n",
    "print(accuracy_score(y_val, predictions))"
   ]
  },
  {
   "cell_type": "markdown",
   "metadata": {
    "id": "r4kXMUclak8C"
   },
   "source": [
    "### Plot confusion matrix"
   ]
  },
  {
   "cell_type": "code",
   "execution_count": 184,
   "metadata": {
    "id": "ZEaCqPgrak8C"
   },
   "outputs": [
    {
     "data": {
      "image/png": "[encoded data removed]",
      "text/plain": [
       "<Figure size 800x600 with 2 Axes>"
      ]
     },
     "metadata": {},
     "output_type": "display_data"
    }
   ],
   "source": [
    "# TODO\n",
    "cm = confusion_matrix(predictions, y_val, _)\n",
    "plot_confusion_matrix(cm, _)"
   ]
  },
  {
   "cell_type": "markdown",
   "metadata": {
    "id": "EFjScq2yak8D"
   },
   "source": [
    "### Calculate metrics"
   ]
  },
  {
   "cell_type": "code",
   "execution_count": 185,
   "metadata": {
    "id": "x8GSV1_5ak8D"
   },
   "outputs": [
    {
     "name": "stdout",
     "output_type": "stream",
     "text": [
      "Recall: 1.0\n",
      "Precision: 0.2\n",
      "F1 Score: 0.33333333333333337\n"
     ]
    }
   ],
   "source": [
    "# TODO\n",
    "print(f'Recall: {recall_score(cm)}')\n",
    "print(f'Precision: {precision_score(cm)}')\n",
    "print(f'F1 Score: {f1_score(cm)}')"
   ]
  },
  {
   "cell_type": "markdown",
   "metadata": {
    "id": "5NDXj0qEZ3u_"
   },
   "source": [
    "## Comparison"
   ]
  },
  {
   "cell_type": "markdown",
   "metadata": {
    "id": "HvHYNnEEZ5to"
   },
   "source": [
    "Based on the obtained results which accuracy and F1 score metrics are most appropriate for evaluating the model in imbalanced datasets?"
   ]
  },
  {
   "cell_type": "markdown",
   "metadata": {
    "id": "LqGtCJLtaKhN"
   },
   "source": [
    "**Answer:**\n",
    "First of all, accuracy is not a good option because of the imbalanced datasets and insufficient amount of data for each target label. Moreover, Recall was proportionally high here becauese there was not much data on target label 1, On the other hand, Percision tends to be lower than what is real because the number of 0 labeled data is much more than the number of 1 labeled data. In conclusion, F1 score is the best option here, because it take into account both of the above metrics that doesn't do well in this scenario due to imbalanced datasets."
   ]
  }
 ],
 "metadata": {
  "colab": {
   "collapsed_sections": [
    "utNwgYmlKvfm",
    "bjntS4nxH4Hs",
    "TNo6F7XEH7p3",
    "phw5_4uEIgyY",
    "NOo1N_ZaKHPg",
    "js3fx5A2lnR6",
    "GoPThTyLnd0N",
    "54V2QMyQoAQr",
    "0u9hzezSo48b",
    "RYDwVLDqkoXc",
    "q0Ogh-b03oUx"
   ],
   "provenance": []
  },
  "kernelspec": {
   "display_name": "Python 3 (ipykernel)",
   "language": "python",
   "name": "python3"
  },
  "language_info": {
   "codemirror_mode": {
    "name": "ipython",
    "version": 3
   },
   "file_extension": ".py",
   "mimetype": "text/x-python",
   "name": "python",
   "nbconvert_exporter": "python",
   "pygments_lexer": "ipython3",
   "version": "3.10.9"
  }
 },
 "nbformat": 4,
 "nbformat_minor": 1
}
